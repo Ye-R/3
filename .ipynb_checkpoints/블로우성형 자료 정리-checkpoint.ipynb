{
 "cells": [
  {
   "cell_type": "code",
   "execution_count": 2,
   "id": "367ccebe",
   "metadata": {},
   "outputs": [],
   "source": [
    "import pandas as pd\n",
    "import numpy as np\n",
    "import scipy.stats as sp\n",
    "import pywt\n",
    "import matplotlib.pyplot as plt\n",
    "import os"
   ]
  },
  {
   "cell_type": "code",
   "execution_count": 3,
   "id": "8c0a7726",
   "metadata": {},
   "outputs": [
    {
     "data": {
      "text/html": [
       "<div>\n",
       "<style scoped>\n",
       "    .dataframe tbody tr th:only-of-type {\n",
       "        vertical-align: middle;\n",
       "    }\n",
       "\n",
       "    .dataframe tbody tr th {\n",
       "        vertical-align: top;\n",
       "    }\n",
       "\n",
       "    .dataframe thead th {\n",
       "        text-align: right;\n",
       "    }\n",
       "</style>\n",
       "<table border=\"1\" class=\"dataframe\">\n",
       "  <thead>\n",
       "    <tr style=\"text-align: right;\">\n",
       "      <th></th>\n",
       "      <th>Name</th>\n",
       "      <th>P11</th>\n",
       "      <th>P12</th>\n",
       "      <th>P13</th>\n",
       "      <th>P14</th>\n",
       "      <th>P15</th>\n",
       "      <th>P16</th>\n",
       "      <th>P17</th>\n",
       "      <th>P18</th>\n",
       "      <th>P19</th>\n",
       "      <th>P20</th>\n",
       "      <th>P21</th>\n",
       "      <th>P22</th>\n",
       "      <th>P23</th>\n",
       "      <th>P24</th>\n",
       "      <th>P25</th>\n",
       "      <th>P10</th>\n",
       "    </tr>\n",
       "  </thead>\n",
       "  <tbody>\n",
       "    <tr>\n",
       "      <th>0</th>\n",
       "      <td>DP 0</td>\n",
       "      <td>80</td>\n",
       "      <td>120.0</td>\n",
       "      <td>118.0</td>\n",
       "      <td>116.0</td>\n",
       "      <td>114.0</td>\n",
       "      <td>112.0</td>\n",
       "      <td>110.0</td>\n",
       "      <td>108.0</td>\n",
       "      <td>106.0</td>\n",
       "      <td>104.0</td>\n",
       "      <td>102.0</td>\n",
       "      <td>100.0</td>\n",
       "      <td>98.0</td>\n",
       "      <td>96.0</td>\n",
       "      <td>94.0</td>\n",
       "      <td>NaN</td>\n",
       "    </tr>\n",
       "    <tr>\n",
       "      <th>1</th>\n",
       "      <td>DP 1</td>\n",
       "      <td>80</td>\n",
       "      <td>101.0</td>\n",
       "      <td>103.0</td>\n",
       "      <td>99.0</td>\n",
       "      <td>109.0</td>\n",
       "      <td>105.0</td>\n",
       "      <td>96.6</td>\n",
       "      <td>80.2</td>\n",
       "      <td>80.2</td>\n",
       "      <td>117.4</td>\n",
       "      <td>115.0</td>\n",
       "      <td>95.0</td>\n",
       "      <td>81.4</td>\n",
       "      <td>101.4</td>\n",
       "      <td>99.0</td>\n",
       "      <td>0.002706</td>\n",
       "    </tr>\n",
       "    <tr>\n",
       "      <th>2</th>\n",
       "      <td>DP 2</td>\n",
       "      <td>80</td>\n",
       "      <td>112.2</td>\n",
       "      <td>81.4</td>\n",
       "      <td>84.6</td>\n",
       "      <td>80.6</td>\n",
       "      <td>119.8</td>\n",
       "      <td>85.8</td>\n",
       "      <td>80.6</td>\n",
       "      <td>81.0</td>\n",
       "      <td>93.0</td>\n",
       "      <td>91.0</td>\n",
       "      <td>87.4</td>\n",
       "      <td>109.8</td>\n",
       "      <td>111.0</td>\n",
       "      <td>101.0</td>\n",
       "      <td>NaN</td>\n",
       "    </tr>\n",
       "    <tr>\n",
       "      <th>3</th>\n",
       "      <td>DP 3</td>\n",
       "      <td>80</td>\n",
       "      <td>90.6</td>\n",
       "      <td>90.2</td>\n",
       "      <td>111.8</td>\n",
       "      <td>91.0</td>\n",
       "      <td>97.8</td>\n",
       "      <td>95.8</td>\n",
       "      <td>81.0</td>\n",
       "      <td>103.8</td>\n",
       "      <td>97.8</td>\n",
       "      <td>81.0</td>\n",
       "      <td>94.6</td>\n",
       "      <td>87.4</td>\n",
       "      <td>113.4</td>\n",
       "      <td>107.0</td>\n",
       "      <td>NaN</td>\n",
       "    </tr>\n",
       "    <tr>\n",
       "      <th>4</th>\n",
       "      <td>DP 4</td>\n",
       "      <td>80</td>\n",
       "      <td>82.2</td>\n",
       "      <td>99.0</td>\n",
       "      <td>85.4</td>\n",
       "      <td>112.2</td>\n",
       "      <td>109.0</td>\n",
       "      <td>100.6</td>\n",
       "      <td>81.4</td>\n",
       "      <td>95.8</td>\n",
       "      <td>84.6</td>\n",
       "      <td>100.6</td>\n",
       "      <td>83.8</td>\n",
       "      <td>98.6</td>\n",
       "      <td>85.0</td>\n",
       "      <td>82.2</td>\n",
       "      <td>NaN</td>\n",
       "    </tr>\n",
       "    <tr>\n",
       "      <th>...</th>\n",
       "      <td>...</td>\n",
       "      <td>...</td>\n",
       "      <td>...</td>\n",
       "      <td>...</td>\n",
       "      <td>...</td>\n",
       "      <td>...</td>\n",
       "      <td>...</td>\n",
       "      <td>...</td>\n",
       "      <td>...</td>\n",
       "      <td>...</td>\n",
       "      <td>...</td>\n",
       "      <td>...</td>\n",
       "      <td>...</td>\n",
       "      <td>...</td>\n",
       "      <td>...</td>\n",
       "      <td>...</td>\n",
       "      <td>...</td>\n",
       "    </tr>\n",
       "    <tr>\n",
       "      <th>96</th>\n",
       "      <td>DP 96</td>\n",
       "      <td>80</td>\n",
       "      <td>95.4</td>\n",
       "      <td>83.4</td>\n",
       "      <td>93.8</td>\n",
       "      <td>92.2</td>\n",
       "      <td>87.0</td>\n",
       "      <td>97.4</td>\n",
       "      <td>118.2</td>\n",
       "      <td>96.2</td>\n",
       "      <td>118.2</td>\n",
       "      <td>95.0</td>\n",
       "      <td>111.0</td>\n",
       "      <td>97.8</td>\n",
       "      <td>83.4</td>\n",
       "      <td>111.4</td>\n",
       "      <td>NaN</td>\n",
       "    </tr>\n",
       "    <tr>\n",
       "      <th>97</th>\n",
       "      <td>DP 97</td>\n",
       "      <td>80</td>\n",
       "      <td>104.6</td>\n",
       "      <td>117.4</td>\n",
       "      <td>115.8</td>\n",
       "      <td>93.0</td>\n",
       "      <td>112.6</td>\n",
       "      <td>92.2</td>\n",
       "      <td>118.6</td>\n",
       "      <td>85.8</td>\n",
       "      <td>110.2</td>\n",
       "      <td>93.0</td>\n",
       "      <td>107.4</td>\n",
       "      <td>110.2</td>\n",
       "      <td>94.6</td>\n",
       "      <td>108.6</td>\n",
       "      <td>NaN</td>\n",
       "    </tr>\n",
       "    <tr>\n",
       "      <th>98</th>\n",
       "      <td>DP 98</td>\n",
       "      <td>80</td>\n",
       "      <td>104.2</td>\n",
       "      <td>85.8</td>\n",
       "      <td>85.0</td>\n",
       "      <td>103.8</td>\n",
       "      <td>97.4</td>\n",
       "      <td>106.6</td>\n",
       "      <td>119.0</td>\n",
       "      <td>91.8</td>\n",
       "      <td>88.2</td>\n",
       "      <td>107.4</td>\n",
       "      <td>109.4</td>\n",
       "      <td>114.2</td>\n",
       "      <td>111.4</td>\n",
       "      <td>117.0</td>\n",
       "      <td>NaN</td>\n",
       "    </tr>\n",
       "    <tr>\n",
       "      <th>99</th>\n",
       "      <td>DP 99</td>\n",
       "      <td>80</td>\n",
       "      <td>93.0</td>\n",
       "      <td>102.2</td>\n",
       "      <td>105.8</td>\n",
       "      <td>95.0</td>\n",
       "      <td>96.2</td>\n",
       "      <td>110.6</td>\n",
       "      <td>119.4</td>\n",
       "      <td>93.4</td>\n",
       "      <td>94.6</td>\n",
       "      <td>96.6</td>\n",
       "      <td>117.0</td>\n",
       "      <td>95.8</td>\n",
       "      <td>116.2</td>\n",
       "      <td>93.8</td>\n",
       "      <td>NaN</td>\n",
       "    </tr>\n",
       "    <tr>\n",
       "      <th>100</th>\n",
       "      <td>DP 100</td>\n",
       "      <td>80</td>\n",
       "      <td>83.8</td>\n",
       "      <td>82.2</td>\n",
       "      <td>81.0</td>\n",
       "      <td>97.4</td>\n",
       "      <td>90.6</td>\n",
       "      <td>90.6</td>\n",
       "      <td>119.8</td>\n",
       "      <td>99.4</td>\n",
       "      <td>101.0</td>\n",
       "      <td>82.2</td>\n",
       "      <td>89.4</td>\n",
       "      <td>82.2</td>\n",
       "      <td>98.2</td>\n",
       "      <td>91.4</td>\n",
       "      <td>NaN</td>\n",
       "    </tr>\n",
       "  </tbody>\n",
       "</table>\n",
       "<p>101 rows × 17 columns</p>\n",
       "</div>"
      ],
      "text/plain": [
       "       Name  P11    P12    P13    P14    P15    P16    P17    P18    P19  \\\n",
       "0      DP 0   80  120.0  118.0  116.0  114.0  112.0  110.0  108.0  106.0   \n",
       "1      DP 1   80  101.0  103.0   99.0  109.0  105.0   96.6   80.2   80.2   \n",
       "2      DP 2   80  112.2   81.4   84.6   80.6  119.8   85.8   80.6   81.0   \n",
       "3      DP 3   80   90.6   90.2  111.8   91.0   97.8   95.8   81.0  103.8   \n",
       "4      DP 4   80   82.2   99.0   85.4  112.2  109.0  100.6   81.4   95.8   \n",
       "..      ...  ...    ...    ...    ...    ...    ...    ...    ...    ...   \n",
       "96    DP 96   80   95.4   83.4   93.8   92.2   87.0   97.4  118.2   96.2   \n",
       "97    DP 97   80  104.6  117.4  115.8   93.0  112.6   92.2  118.6   85.8   \n",
       "98    DP 98   80  104.2   85.8   85.0  103.8   97.4  106.6  119.0   91.8   \n",
       "99    DP 99   80   93.0  102.2  105.8   95.0   96.2  110.6  119.4   93.4   \n",
       "100  DP 100   80   83.8   82.2   81.0   97.4   90.6   90.6  119.8   99.4   \n",
       "\n",
       "       P20    P21    P22    P23    P24    P25       P10  \n",
       "0    104.0  102.0  100.0   98.0   96.0   94.0       NaN  \n",
       "1    117.4  115.0   95.0   81.4  101.4   99.0  0.002706  \n",
       "2     93.0   91.0   87.4  109.8  111.0  101.0       NaN  \n",
       "3     97.8   81.0   94.6   87.4  113.4  107.0       NaN  \n",
       "4     84.6  100.6   83.8   98.6   85.0   82.2       NaN  \n",
       "..     ...    ...    ...    ...    ...    ...       ...  \n",
       "96   118.2   95.0  111.0   97.8   83.4  111.4       NaN  \n",
       "97   110.2   93.0  107.4  110.2   94.6  108.6       NaN  \n",
       "98    88.2  107.4  109.4  114.2  111.4  117.0       NaN  \n",
       "99    94.6   96.6  117.0   95.8  116.2   93.8       NaN  \n",
       "100  101.0   82.2   89.4   82.2   98.2   91.4       NaN  \n",
       "\n",
       "[101 rows x 17 columns]"
      ]
     },
     "execution_count": 3,
     "metadata": {},
     "output_type": "execute_result"
    }
   ],
   "source": [
    "inputdata = pd.read_csv('./input-test2.csv',skiprows = 6, sep=',')\n",
    "inputdata"
   ]
  },
  {
   "cell_type": "code",
   "execution_count": 14,
   "id": "ad162d42",
   "metadata": {},
   "outputs": [
    {
     "name": "stdout",
     "output_type": "stream",
     "text": [
      "Using matplotlib backend: Qt5Agg\n"
     ]
    }
   ],
   "source": [
    "%matplotlib"
   ]
  },
  {
   "cell_type": "code",
   "execution_count": 5,
   "id": "045e8fe0",
   "metadata": {},
   "outputs": [
    {
     "data": {
      "text/plain": [
       "<Figure size 432x288 with 0 Axes>"
      ]
     },
     "metadata": {},
     "output_type": "display_data"
    }
   ],
   "source": [
    "for i in range(15):\n",
    "    plt.plot(inputdata.iloc[:,i+1])\n",
    "    s = 'plt.title(\"P%d\")'%(i+11)\n",
    "    exec(s)\n",
    "    plt.figure(figsize=(25,8))\n",
    "    plt.ylabel(\"Temperature\", fontsize='16')\n",
    "    plt.xlabel(\"dp Number\", fontsize='16')\n",
    "    s2 = 'plt.savefig(\"D:/testoneblow/input data plot/P%dtemp_linegraph.jpg\")'%(i+11)\n",
    "    exec(s2)\n",
    "    plt.clf()"
   ]
  },
  {
   "cell_type": "code",
   "execution_count": 23,
   "id": "752434a2",
   "metadata": {},
   "outputs": [],
   "source": [
    "x = list(range(0,101,1))\n",
    "for i in range(15):\n",
    "    y = inputdata.iloc[:,i+1]\n",
    "    plt.figure(figsize=(12,8))\n",
    "    s = 'plt.title(\"P%d\")'%(i+11)\n",
    "    exec(s)\n",
    "\n",
    "    plt.ylabel(\"Temperature\", fontsize='16')\n",
    "    plt.xlabel(\"dp Number\", fontsize='16')\n",
    "    plt.ylim(80,121)\n",
    "    plt.bar(x,y)\n",
    "    s2 = 'plt.savefig(\"D:/testoneblow/input data plot/P%dtemp_bargraph.jpg\")'%(i+11)\n",
    "    exec(s2)\n",
    "    plt.clf()"
   ]
  },
  {
   "cell_type": "code",
   "execution_count": 24,
   "id": "806160de",
   "metadata": {},
   "outputs": [],
   "source": [
    "x = list(range(0,101,1))\n",
    "y = inputdata.iloc[:,1]\n",
    "plt.figure(figsize=(12,8))\n",
    "plt.title(\"P11\")\n",
    "\n",
    "plt.ylabel(\"Temperature\", fontsize='16')\n",
    "plt.xlabel(\"dp Number\", fontsize='16')\n",
    "plt.ylim(60,100)\n",
    "plt.bar(x,y)\n",
    "plt.savefig(\"D:/testoneblow/input data plot/P1temp_bargraph.jpg\")"
   ]
  },
  {
   "cell_type": "code",
   "execution_count": 33,
   "id": "4f7dfa4d",
   "metadata": {},
   "outputs": [
    {
     "data": {
      "text/plain": [
       "10"
      ]
     },
     "execution_count": 33,
     "metadata": {},
     "output_type": "execute_result"
    }
   ],
   "source": [
    "int(inputdata.shape[0]/10)"
   ]
  },
  {
   "cell_type": "code",
   "execution_count": 35,
   "id": "a77d3fb7",
   "metadata": {},
   "outputs": [],
   "source": [
    "plt.clf()\n",
    "for i in range(int(inputdata.shape[0]/10)):\n",
    "    plt.title(\"dp's P temperatures\")\n",
    "    plt.ylabel(\"Temperature\", fontsize='16')\n",
    "    plt.xlabel(\"position P\", fontsize='16')\n",
    "    plt.plot(inputdata.iloc[i+50,1:-1])\n",
    "    plt.savefig(\"D:/testoneblow/input data plot/dptempdata.jpg\")\n"
   ]
  },
  {
   "cell_type": "code",
   "execution_count": 63,
   "id": "c797f37b",
   "metadata": {},
   "outputs": [
    {
     "ename": "FileNotFoundError",
     "evalue": "[Errno 2] No such file or directory: './test1_result/dp1-blow-thick'",
     "output_type": "error",
     "traceback": [
      "\u001b[1;31m---------------------------------------------------------------------------\u001b[0m",
      "\u001b[1;31mFileNotFoundError\u001b[0m                         Traceback (most recent call last)",
      "\u001b[1;32m<ipython-input-63-73d3937999a9>\u001b[0m in \u001b[0;36m<module>\u001b[1;34m\u001b[0m\n\u001b[0;32m      1\u001b[0m \u001b[1;32mfor\u001b[0m \u001b[0mi\u001b[0m \u001b[1;32min\u001b[0m \u001b[0mrange\u001b[0m \u001b[1;33m(\u001b[0m\u001b[1;36m100\u001b[0m\u001b[1;33m)\u001b[0m\u001b[1;33m:\u001b[0m\u001b[1;33m\u001b[0m\u001b[1;33m\u001b[0m\u001b[0m\n\u001b[1;32m----> 2\u001b[1;33m     \u001b[0mtemp_data\u001b[0m \u001b[1;33m=\u001b[0m \u001b[0mpd\u001b[0m\u001b[1;33m.\u001b[0m\u001b[0mread_csv\u001b[0m\u001b[1;33m(\u001b[0m\u001b[1;34m'./test1_result/dp%d-blow-thick'\u001b[0m\u001b[1;33m%\u001b[0m\u001b[1;33m(\u001b[0m\u001b[0mi\u001b[0m\u001b[1;33m+\u001b[0m\u001b[1;36m1\u001b[0m\u001b[1;33m)\u001b[0m\u001b[1;33m,\u001b[0m\u001b[0mskiprows\u001b[0m \u001b[1;33m=\u001b[0m \u001b[1;36m4\u001b[0m\u001b[1;33m,\u001b[0m \u001b[0msep\u001b[0m\u001b[1;33m=\u001b[0m\u001b[1;34m','\u001b[0m\u001b[1;33m)\u001b[0m\u001b[1;33m\u001b[0m\u001b[1;33m\u001b[0m\u001b[0m\n\u001b[0m\u001b[0;32m      3\u001b[0m     \u001b[0ms\u001b[0m \u001b[1;33m=\u001b[0m \u001b[1;34m\"temp_dp%d = temp_data\"\u001b[0m\u001b[1;33m%\u001b[0m\u001b[1;33m(\u001b[0m\u001b[0mi\u001b[0m\u001b[1;33m+\u001b[0m\u001b[1;36m1\u001b[0m\u001b[1;33m)\u001b[0m\u001b[1;33m\u001b[0m\u001b[1;33m\u001b[0m\u001b[0m\n\u001b[0;32m      4\u001b[0m     \u001b[0mexec\u001b[0m\u001b[1;33m(\u001b[0m\u001b[0ms\u001b[0m\u001b[1;33m)\u001b[0m\u001b[1;33m\u001b[0m\u001b[1;33m\u001b[0m\u001b[0m\n\u001b[0;32m      5\u001b[0m \u001b[1;33m\u001b[0m\u001b[0m\n",
      "\u001b[1;32m~\\anaconda3\\lib\\site-packages\\pandas\\io\\parsers.py\u001b[0m in \u001b[0;36mread_csv\u001b[1;34m(filepath_or_buffer, sep, delimiter, header, names, index_col, usecols, squeeze, prefix, mangle_dupe_cols, dtype, engine, converters, true_values, false_values, skipinitialspace, skiprows, skipfooter, nrows, na_values, keep_default_na, na_filter, verbose, skip_blank_lines, parse_dates, infer_datetime_format, keep_date_col, date_parser, dayfirst, cache_dates, iterator, chunksize, compression, thousands, decimal, lineterminator, quotechar, quoting, doublequote, escapechar, comment, encoding, dialect, error_bad_lines, warn_bad_lines, delim_whitespace, low_memory, memory_map, float_precision, storage_options)\u001b[0m\n\u001b[0;32m    608\u001b[0m     \u001b[0mkwds\u001b[0m\u001b[1;33m.\u001b[0m\u001b[0mupdate\u001b[0m\u001b[1;33m(\u001b[0m\u001b[0mkwds_defaults\u001b[0m\u001b[1;33m)\u001b[0m\u001b[1;33m\u001b[0m\u001b[1;33m\u001b[0m\u001b[0m\n\u001b[0;32m    609\u001b[0m \u001b[1;33m\u001b[0m\u001b[0m\n\u001b[1;32m--> 610\u001b[1;33m     \u001b[1;32mreturn\u001b[0m \u001b[0m_read\u001b[0m\u001b[1;33m(\u001b[0m\u001b[0mfilepath_or_buffer\u001b[0m\u001b[1;33m,\u001b[0m \u001b[0mkwds\u001b[0m\u001b[1;33m)\u001b[0m\u001b[1;33m\u001b[0m\u001b[1;33m\u001b[0m\u001b[0m\n\u001b[0m\u001b[0;32m    611\u001b[0m \u001b[1;33m\u001b[0m\u001b[0m\n\u001b[0;32m    612\u001b[0m \u001b[1;33m\u001b[0m\u001b[0m\n",
      "\u001b[1;32m~\\anaconda3\\lib\\site-packages\\pandas\\io\\parsers.py\u001b[0m in \u001b[0;36m_read\u001b[1;34m(filepath_or_buffer, kwds)\u001b[0m\n\u001b[0;32m    460\u001b[0m \u001b[1;33m\u001b[0m\u001b[0m\n\u001b[0;32m    461\u001b[0m     \u001b[1;31m# Create the parser.\u001b[0m\u001b[1;33m\u001b[0m\u001b[1;33m\u001b[0m\u001b[1;33m\u001b[0m\u001b[0m\n\u001b[1;32m--> 462\u001b[1;33m     \u001b[0mparser\u001b[0m \u001b[1;33m=\u001b[0m \u001b[0mTextFileReader\u001b[0m\u001b[1;33m(\u001b[0m\u001b[0mfilepath_or_buffer\u001b[0m\u001b[1;33m,\u001b[0m \u001b[1;33m**\u001b[0m\u001b[0mkwds\u001b[0m\u001b[1;33m)\u001b[0m\u001b[1;33m\u001b[0m\u001b[1;33m\u001b[0m\u001b[0m\n\u001b[0m\u001b[0;32m    463\u001b[0m \u001b[1;33m\u001b[0m\u001b[0m\n\u001b[0;32m    464\u001b[0m     \u001b[1;32mif\u001b[0m \u001b[0mchunksize\u001b[0m \u001b[1;32mor\u001b[0m \u001b[0miterator\u001b[0m\u001b[1;33m:\u001b[0m\u001b[1;33m\u001b[0m\u001b[1;33m\u001b[0m\u001b[0m\n",
      "\u001b[1;32m~\\anaconda3\\lib\\site-packages\\pandas\\io\\parsers.py\u001b[0m in \u001b[0;36m__init__\u001b[1;34m(self, f, engine, **kwds)\u001b[0m\n\u001b[0;32m    817\u001b[0m             \u001b[0mself\u001b[0m\u001b[1;33m.\u001b[0m\u001b[0moptions\u001b[0m\u001b[1;33m[\u001b[0m\u001b[1;34m\"has_index_names\"\u001b[0m\u001b[1;33m]\u001b[0m \u001b[1;33m=\u001b[0m \u001b[0mkwds\u001b[0m\u001b[1;33m[\u001b[0m\u001b[1;34m\"has_index_names\"\u001b[0m\u001b[1;33m]\u001b[0m\u001b[1;33m\u001b[0m\u001b[1;33m\u001b[0m\u001b[0m\n\u001b[0;32m    818\u001b[0m \u001b[1;33m\u001b[0m\u001b[0m\n\u001b[1;32m--> 819\u001b[1;33m         \u001b[0mself\u001b[0m\u001b[1;33m.\u001b[0m\u001b[0m_engine\u001b[0m \u001b[1;33m=\u001b[0m \u001b[0mself\u001b[0m\u001b[1;33m.\u001b[0m\u001b[0m_make_engine\u001b[0m\u001b[1;33m(\u001b[0m\u001b[0mself\u001b[0m\u001b[1;33m.\u001b[0m\u001b[0mengine\u001b[0m\u001b[1;33m)\u001b[0m\u001b[1;33m\u001b[0m\u001b[1;33m\u001b[0m\u001b[0m\n\u001b[0m\u001b[0;32m    820\u001b[0m \u001b[1;33m\u001b[0m\u001b[0m\n\u001b[0;32m    821\u001b[0m     \u001b[1;32mdef\u001b[0m \u001b[0mclose\u001b[0m\u001b[1;33m(\u001b[0m\u001b[0mself\u001b[0m\u001b[1;33m)\u001b[0m\u001b[1;33m:\u001b[0m\u001b[1;33m\u001b[0m\u001b[1;33m\u001b[0m\u001b[0m\n",
      "\u001b[1;32m~\\anaconda3\\lib\\site-packages\\pandas\\io\\parsers.py\u001b[0m in \u001b[0;36m_make_engine\u001b[1;34m(self, engine)\u001b[0m\n\u001b[0;32m   1048\u001b[0m             )\n\u001b[0;32m   1049\u001b[0m         \u001b[1;31m# error: Too many arguments for \"ParserBase\"\u001b[0m\u001b[1;33m\u001b[0m\u001b[1;33m\u001b[0m\u001b[1;33m\u001b[0m\u001b[0m\n\u001b[1;32m-> 1050\u001b[1;33m         \u001b[1;32mreturn\u001b[0m \u001b[0mmapping\u001b[0m\u001b[1;33m[\u001b[0m\u001b[0mengine\u001b[0m\u001b[1;33m]\u001b[0m\u001b[1;33m(\u001b[0m\u001b[0mself\u001b[0m\u001b[1;33m.\u001b[0m\u001b[0mf\u001b[0m\u001b[1;33m,\u001b[0m \u001b[1;33m**\u001b[0m\u001b[0mself\u001b[0m\u001b[1;33m.\u001b[0m\u001b[0moptions\u001b[0m\u001b[1;33m)\u001b[0m  \u001b[1;31m# type: ignore[call-arg]\u001b[0m\u001b[1;33m\u001b[0m\u001b[1;33m\u001b[0m\u001b[0m\n\u001b[0m\u001b[0;32m   1051\u001b[0m \u001b[1;33m\u001b[0m\u001b[0m\n\u001b[0;32m   1052\u001b[0m     \u001b[1;32mdef\u001b[0m \u001b[0m_failover_to_python\u001b[0m\u001b[1;33m(\u001b[0m\u001b[0mself\u001b[0m\u001b[1;33m)\u001b[0m\u001b[1;33m:\u001b[0m\u001b[1;33m\u001b[0m\u001b[1;33m\u001b[0m\u001b[0m\n",
      "\u001b[1;32m~\\anaconda3\\lib\\site-packages\\pandas\\io\\parsers.py\u001b[0m in \u001b[0;36m__init__\u001b[1;34m(self, src, **kwds)\u001b[0m\n\u001b[0;32m   1865\u001b[0m \u001b[1;33m\u001b[0m\u001b[0m\n\u001b[0;32m   1866\u001b[0m         \u001b[1;31m# open handles\u001b[0m\u001b[1;33m\u001b[0m\u001b[1;33m\u001b[0m\u001b[1;33m\u001b[0m\u001b[0m\n\u001b[1;32m-> 1867\u001b[1;33m         \u001b[0mself\u001b[0m\u001b[1;33m.\u001b[0m\u001b[0m_open_handles\u001b[0m\u001b[1;33m(\u001b[0m\u001b[0msrc\u001b[0m\u001b[1;33m,\u001b[0m \u001b[0mkwds\u001b[0m\u001b[1;33m)\u001b[0m\u001b[1;33m\u001b[0m\u001b[1;33m\u001b[0m\u001b[0m\n\u001b[0m\u001b[0;32m   1868\u001b[0m         \u001b[1;32massert\u001b[0m \u001b[0mself\u001b[0m\u001b[1;33m.\u001b[0m\u001b[0mhandles\u001b[0m \u001b[1;32mis\u001b[0m \u001b[1;32mnot\u001b[0m \u001b[1;32mNone\u001b[0m\u001b[1;33m\u001b[0m\u001b[1;33m\u001b[0m\u001b[0m\n\u001b[0;32m   1869\u001b[0m         \u001b[1;32mfor\u001b[0m \u001b[0mkey\u001b[0m \u001b[1;32min\u001b[0m \u001b[1;33m(\u001b[0m\u001b[1;34m\"storage_options\"\u001b[0m\u001b[1;33m,\u001b[0m \u001b[1;34m\"encoding\"\u001b[0m\u001b[1;33m,\u001b[0m \u001b[1;34m\"memory_map\"\u001b[0m\u001b[1;33m,\u001b[0m \u001b[1;34m\"compression\"\u001b[0m\u001b[1;33m)\u001b[0m\u001b[1;33m:\u001b[0m\u001b[1;33m\u001b[0m\u001b[1;33m\u001b[0m\u001b[0m\n",
      "\u001b[1;32m~\\anaconda3\\lib\\site-packages\\pandas\\io\\parsers.py\u001b[0m in \u001b[0;36m_open_handles\u001b[1;34m(self, src, kwds)\u001b[0m\n\u001b[0;32m   1360\u001b[0m         \u001b[0mLet\u001b[0m \u001b[0mthe\u001b[0m \u001b[0mreaders\u001b[0m \u001b[0mopen\u001b[0m \u001b[0mIOHanldes\u001b[0m \u001b[0mafter\u001b[0m \u001b[0mthey\u001b[0m \u001b[0mare\u001b[0m \u001b[0mdone\u001b[0m \u001b[1;32mwith\u001b[0m \u001b[0mtheir\u001b[0m \u001b[0mpotential\u001b[0m \u001b[0mraises\u001b[0m\u001b[1;33m.\u001b[0m\u001b[1;33m\u001b[0m\u001b[1;33m\u001b[0m\u001b[0m\n\u001b[0;32m   1361\u001b[0m         \"\"\"\n\u001b[1;32m-> 1362\u001b[1;33m         self.handles = get_handle(\n\u001b[0m\u001b[0;32m   1363\u001b[0m             \u001b[0msrc\u001b[0m\u001b[1;33m,\u001b[0m\u001b[1;33m\u001b[0m\u001b[1;33m\u001b[0m\u001b[0m\n\u001b[0;32m   1364\u001b[0m             \u001b[1;34m\"r\"\u001b[0m\u001b[1;33m,\u001b[0m\u001b[1;33m\u001b[0m\u001b[1;33m\u001b[0m\u001b[0m\n",
      "\u001b[1;32m~\\anaconda3\\lib\\site-packages\\pandas\\io\\common.py\u001b[0m in \u001b[0;36mget_handle\u001b[1;34m(path_or_buf, mode, encoding, compression, memory_map, is_text, errors, storage_options)\u001b[0m\n\u001b[0;32m    640\u001b[0m                 \u001b[0merrors\u001b[0m \u001b[1;33m=\u001b[0m \u001b[1;34m\"replace\"\u001b[0m\u001b[1;33m\u001b[0m\u001b[1;33m\u001b[0m\u001b[0m\n\u001b[0;32m    641\u001b[0m             \u001b[1;31m# Encoding\u001b[0m\u001b[1;33m\u001b[0m\u001b[1;33m\u001b[0m\u001b[1;33m\u001b[0m\u001b[0m\n\u001b[1;32m--> 642\u001b[1;33m             handle = open(\n\u001b[0m\u001b[0;32m    643\u001b[0m                 \u001b[0mhandle\u001b[0m\u001b[1;33m,\u001b[0m\u001b[1;33m\u001b[0m\u001b[1;33m\u001b[0m\u001b[0m\n\u001b[0;32m    644\u001b[0m                 \u001b[0mioargs\u001b[0m\u001b[1;33m.\u001b[0m\u001b[0mmode\u001b[0m\u001b[1;33m,\u001b[0m\u001b[1;33m\u001b[0m\u001b[1;33m\u001b[0m\u001b[0m\n",
      "\u001b[1;31mFileNotFoundError\u001b[0m: [Errno 2] No such file or directory: './test1_result/dp1-blow-thick'"
     ]
    }
   ],
   "source": [
    "for i in range (100):\n",
    "    temp_data = pd.read_csv('./test1_result/dp%d-blow-thick'%(i+1),skiprows = 4, sep=',')\n",
    "    s = \"temp_dp%d = temp_data\"%(i+1)\n",
    "    exec(s)\n",
    "\n",
    "temp_len_list = []\n",
    "for j in range(100):\n",
    "    exec(\"temp_len_list = np.append(temp_len_list,temp_dp%d.shape[0])\"%(j+1))"
   ]
  },
  {
   "cell_type": "code",
   "execution_count": 55,
   "id": "e2e9df9a",
   "metadata": {},
   "outputs": [
    {
     "data": {
      "text/plain": [
       "array([61., 68., 62., 61., 64., 66., 61., 68., 62., 61., 65., 62., 60.,\n",
       "       60., 62., 66., 65., 61., 68., 59., 60., 61., 61., 65., 61., 61.,\n",
       "       64., 67., 61., 60., 62., 60., 60., 67., 59., 61., 61., 64., 62.,\n",
       "       60., 64., 66., 61., 61., 59., 60., 60., 65., 67., 63., 61., 66.,\n",
       "       65., 61., 60., 60., 62., 61., 64., 65., 62., 60., 61., 64., 59.,\n",
       "       67., 60., 60., 63., 63., 60., 60., 62., 62., 63., 64., 68., 60.,\n",
       "       60., 65., 67., 67., 64., 61., 61., 60., 59., 60., 65., 60., 68.,\n",
       "       60., 60., 63., 63., 65., 63., 61., 65., 60.])"
      ]
     },
     "execution_count": 55,
     "metadata": {},
     "output_type": "execute_result"
    }
   ],
   "source": [
    "temp_len_list"
   ]
  },
  {
   "cell_type": "code",
   "execution_count": 56,
   "id": "b80ab7e3",
   "metadata": {},
   "outputs": [
    {
     "data": {
      "text/plain": [
       "68.0"
      ]
     },
     "execution_count": 56,
     "metadata": {},
     "output_type": "execute_result"
    }
   ],
   "source": [
    "np.max(temp_len_list)"
   ]
  },
  {
   "cell_type": "code",
   "execution_count": 57,
   "id": "7e62be20",
   "metadata": {},
   "outputs": [
    {
     "data": {
      "text/plain": [
       "59.0"
      ]
     },
     "execution_count": 57,
     "metadata": {},
     "output_type": "execute_result"
    }
   ],
   "source": [
    "np.min(temp_len_list)"
   ]
  },
  {
   "cell_type": "code",
   "execution_count": null,
   "id": "09a63ec4",
   "metadata": {},
   "outputs": [],
   "source": []
  }
 ],
 "metadata": {
  "kernelspec": {
   "display_name": "Python 3",
   "language": "python",
   "name": "python3"
  }
 },
 "nbformat": 4,
 "nbformat_minor": 5
}
