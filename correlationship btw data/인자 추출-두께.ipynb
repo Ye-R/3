{
 "cells": [
  {
   "cell_type": "markdown",
   "metadata": {},
   "source": [
    "## 라이브러리 import"
   ]
  },
  {
   "cell_type": "code",
   "execution_count": 1,
   "metadata": {},
   "outputs": [],
   "source": [
    "import pandas as pd\n",
    "import numpy as np\n",
    "import matplotlib.pyplot as plt\n",
    "import seaborn           as sb\n",
    "import scipy.stats       as sp\n",
    "import sympy             as sm"
   ]
  },
  {
   "cell_type": "code",
   "execution_count": 2,
   "metadata": {},
   "outputs": [],
   "source": [
    "import tensorflow as tf\n",
    "from tensorflow import keras\n",
    "tf.random.set_seed(777)"
   ]
  },
  {
   "cell_type": "markdown",
   "metadata": {},
   "source": [
    "## 데이터 불러오기"
   ]
  },
  {
   "cell_type": "code",
   "execution_count": 86,
   "metadata": {},
   "outputs": [],
   "source": [
    "#몇차 데이터인지\n",
    "testcase = \"test1\""
   ]
  },
  {
   "cell_type": "code",
   "execution_count": 87,
   "metadata": {},
   "outputs": [],
   "source": [
    "backward_list = ['3']\n",
    "mm_list = ['1','2']\n",
    "for i in range(100):\n",
    "    temp_thick = pd.read_csv('./'+testcase+'/dp%d-blow-thick.csv'%(i+1),skiprows = 4)\n",
    "    if testcase[-1] in backward_list:\n",
    "        temp_thick.iloc[:,0] = temp_thick.iloc[-1,0]-temp_thick.iloc[:,0]\n",
    "        temp_thick = temp_thick[::-1]\n",
    "        \n",
    "    if  testcase[-1] in mm_list:\n",
    "        temp_thick.iloc[:,1] = temp_thick.iloc[:,1]*1000\n",
    "        \n",
    "    s = \"dp%d_blow_thick = temp_thick\"%(i+1); exec(s)"
   ]
  },
  {
   "cell_type": "code",
   "execution_count": 88,
   "metadata": {
    "scrolled": true
   },
   "outputs": [
    {
     "data": {
      "text/html": [
       "<div>\n",
       "<style scoped>\n",
       "    .dataframe tbody tr th:only-of-type {\n",
       "        vertical-align: middle;\n",
       "    }\n",
       "\n",
       "    .dataframe tbody tr th {\n",
       "        vertical-align: top;\n",
       "    }\n",
       "\n",
       "    .dataframe thead th {\n",
       "        text-align: right;\n",
       "    }\n",
       "</style>\n",
       "<table border=\"1\" class=\"dataframe\">\n",
       "  <thead>\n",
       "    <tr style=\"text-align: right;\">\n",
       "      <th></th>\n",
       "      <th>Curve Length on Polyline 1 [ m ]</th>\n",
       "      <th>THICKNESS [ m ]</th>\n",
       "    </tr>\n",
       "  </thead>\n",
       "  <tbody>\n",
       "    <tr>\n",
       "      <th>0</th>\n",
       "      <td>0.000000</td>\n",
       "      <td>2.760244</td>\n",
       "    </tr>\n",
       "    <tr>\n",
       "      <th>1</th>\n",
       "      <td>0.003012</td>\n",
       "      <td>2.547540</td>\n",
       "    </tr>\n",
       "    <tr>\n",
       "      <th>2</th>\n",
       "      <td>0.006101</td>\n",
       "      <td>2.492307</td>\n",
       "    </tr>\n",
       "    <tr>\n",
       "      <th>3</th>\n",
       "      <td>0.007720</td>\n",
       "      <td>2.039532</td>\n",
       "    </tr>\n",
       "    <tr>\n",
       "      <th>4</th>\n",
       "      <td>0.009473</td>\n",
       "      <td>1.648354</td>\n",
       "    </tr>\n",
       "    <tr>\n",
       "      <th>...</th>\n",
       "      <td>...</td>\n",
       "      <td>...</td>\n",
       "    </tr>\n",
       "    <tr>\n",
       "      <th>56</th>\n",
       "      <td>0.283006</td>\n",
       "      <td>1.917187</td>\n",
       "    </tr>\n",
       "    <tr>\n",
       "      <th>57</th>\n",
       "      <td>0.286500</td>\n",
       "      <td>1.991407</td>\n",
       "    </tr>\n",
       "    <tr>\n",
       "      <th>58</th>\n",
       "      <td>0.290046</td>\n",
       "      <td>2.033052</td>\n",
       "    </tr>\n",
       "    <tr>\n",
       "      <th>59</th>\n",
       "      <td>0.293606</td>\n",
       "      <td>2.397834</td>\n",
       "    </tr>\n",
       "    <tr>\n",
       "      <th>60</th>\n",
       "      <td>0.297487</td>\n",
       "      <td>2.736882</td>\n",
       "    </tr>\n",
       "  </tbody>\n",
       "</table>\n",
       "<p>61 rows × 2 columns</p>\n",
       "</div>"
      ],
      "text/plain": [
       "    Curve Length on Polyline 1 [ m ]  THICKNESS [ m ]\n",
       "0                           0.000000         2.760244\n",
       "1                           0.003012         2.547540\n",
       "2                           0.006101         2.492307\n",
       "3                           0.007720         2.039532\n",
       "4                           0.009473         1.648354\n",
       "..                               ...              ...\n",
       "56                          0.283006         1.917187\n",
       "57                          0.286500         1.991407\n",
       "58                          0.290046         2.033052\n",
       "59                          0.293606         2.397834\n",
       "60                          0.297487         2.736882\n",
       "\n",
       "[61 rows x 2 columns]"
      ]
     },
     "execution_count": 88,
     "metadata": {},
     "output_type": "execute_result"
    }
   ],
   "source": [
    "dp1_blow_thick"
   ]
  },
  {
   "cell_type": "code",
   "execution_count": 89,
   "metadata": {
    "collapsed": true
   },
   "outputs": [
    {
     "data": {
      "text/plain": [
       "[<matplotlib.lines.Line2D at 0x1cea0ce1190>]"
      ]
     },
     "execution_count": 89,
     "metadata": {},
     "output_type": "execute_result"
    },
    {
     "data": {
      "image/png": "[encoded data removed]",
      "text/plain": [
       "<Figure size 432x288 with 1 Axes>"
      ]
     },
     "metadata": {
      "needs_background": "light"
     },
     "output_type": "display_data"
    }
   ],
   "source": [
    "plt.plot(dp1_blow_thick.iloc[:,0],dp1_blow_thick.iloc[:,1])"
   ]
  },
  {
   "cell_type": "markdown",
   "metadata": {},
   "source": [
    "### 전체 / GM-Gm"
   ]
  },
  {
   "cell_type": "code",
   "execution_count": 92,
   "metadata": {},
   "outputs": [],
   "source": [
    "total_GMGm_factor = []\n",
    "for i in range(100):\n",
    "    exec(\"temp_thick = dp%d_blow_thick\"%(i+1))\n",
    "    val = np.max(temp_thick.iloc[:,1])-np.min(temp_thick.iloc[:,1])\n",
    "    total_GMGm_factor = np.append(total_GMGm_factor,val)\n"
   ]
  },
  {
   "cell_type": "markdown",
   "metadata": {},
   "source": [
    "### 전체 / slope"
   ]
  },
  {
   "cell_type": "code",
   "execution_count": 95,
   "metadata": {},
   "outputs": [],
   "source": [
    "total_slope_factor = []\n",
    "for i in range(100):\n",
    "    exec(\"temp_thick = dp%d_blow_thick\"%(i+1))\n",
    "    slope_val = 0\n",
    "    for j in range(temp_thick.shape[0]-1):\n",
    "        slope = np.abs( (temp_thick.iloc[j+1,1]-temp_thick.iloc[j,1])/(temp_thick.iloc[j+1,0]-temp_thick.iloc[j,0]) )\n",
    "        slope_val = slope_val+slope\n",
    "    total_slope_factor = np.append(total_slope_factor,slope_val)"
   ]
  },
  {
   "cell_type": "markdown",
   "metadata": {},
   "source": [
    "## sidewall slicing"
   ]
  },
  {
   "cell_type": "code",
   "execution_count": 101,
   "metadata": {},
   "outputs": [
    {
     "data": {
      "text/plain": [
       "int"
      ]
     },
     "execution_count": 101,
     "metadata": {},
     "output_type": "execute_result"
    }
   ],
   "source": [
    "type(int(testcase[-1]))"
   ]
  },
  {
   "cell_type": "code",
   "execution_count": 108,
   "metadata": {},
   "outputs": [
    {
     "data": {
      "text/html": [
       "<div>\n",
       "<style scoped>\n",
       "    .dataframe tbody tr th:only-of-type {\n",
       "        vertical-align: middle;\n",
       "    }\n",
       "\n",
       "    .dataframe tbody tr th {\n",
       "        vertical-align: top;\n",
       "    }\n",
       "\n",
       "    .dataframe thead th {\n",
       "        text-align: right;\n",
       "    }\n",
       "</style>\n",
       "<table border=\"1\" class=\"dataframe\">\n",
       "  <thead>\n",
       "    <tr style=\"text-align: right;\">\n",
       "      <th></th>\n",
       "      <th>case</th>\n",
       "      <th>L_pre</th>\n",
       "      <th>A_pre</th>\n",
       "      <th>V_pre</th>\n",
       "      <th>xyratio_pre</th>\n",
       "      <th>L_blow</th>\n",
       "      <th>A_blow</th>\n",
       "      <th>V_blow</th>\n",
       "      <th>xyratio_blow</th>\n",
       "      <th>y_blow/y_pre</th>\n",
       "      <th>L_blow/L_pre</th>\n",
       "      <th>A_blow/A_pre</th>\n",
       "      <th>V_blow/V_pre</th>\n",
       "      <th>bot_len</th>\n",
       "      <th>side_len</th>\n",
       "      <th>top_len</th>\n",
       "    </tr>\n",
       "  </thead>\n",
       "  <tbody>\n",
       "    <tr>\n",
       "      <th>0</th>\n",
       "      <td>t1_dp1</td>\n",
       "      <td>0.104965</td>\n",
       "      <td>0.003375</td>\n",
       "      <td>0.00051</td>\n",
       "      <td>1.297975</td>\n",
       "      <td>0.297487</td>\n",
       "      <td>0.014325</td>\n",
       "      <td>0.002950</td>\n",
       "      <td>3.745982</td>\n",
       "      <td>2.955304</td>\n",
       "      <td>2.834158</td>\n",
       "      <td>4.244589</td>\n",
       "      <td>5.785178</td>\n",
       "      <td>0.063912</td>\n",
       "      <td>0.229694</td>\n",
       "      <td>0.003881</td>\n",
       "    </tr>\n",
       "    <tr>\n",
       "      <th>1</th>\n",
       "      <td>t1_dp2</td>\n",
       "      <td>0.104965</td>\n",
       "      <td>0.003375</td>\n",
       "      <td>0.00051</td>\n",
       "      <td>1.297975</td>\n",
       "      <td>0.297424</td>\n",
       "      <td>0.014320</td>\n",
       "      <td>0.002948</td>\n",
       "      <td>3.747782</td>\n",
       "      <td>2.956612</td>\n",
       "      <td>2.833556</td>\n",
       "      <td>4.243136</td>\n",
       "      <td>5.780028</td>\n",
       "      <td>0.063073</td>\n",
       "      <td>0.230426</td>\n",
       "      <td>0.003925</td>\n",
       "    </tr>\n",
       "    <tr>\n",
       "      <th>2</th>\n",
       "      <td>t1_dp3</td>\n",
       "      <td>0.104965</td>\n",
       "      <td>0.003375</td>\n",
       "      <td>0.00051</td>\n",
       "      <td>1.297975</td>\n",
       "      <td>0.298458</td>\n",
       "      <td>0.014331</td>\n",
       "      <td>0.002950</td>\n",
       "      <td>3.746032</td>\n",
       "      <td>2.952801</td>\n",
       "      <td>2.843409</td>\n",
       "      <td>4.246218</td>\n",
       "      <td>5.785469</td>\n",
       "      <td>0.065099</td>\n",
       "      <td>0.229499</td>\n",
       "      <td>0.003860</td>\n",
       "    </tr>\n",
       "    <tr>\n",
       "      <th>3</th>\n",
       "      <td>t1_dp4</td>\n",
       "      <td>0.104965</td>\n",
       "      <td>0.003375</td>\n",
       "      <td>0.00051</td>\n",
       "      <td>1.297975</td>\n",
       "      <td>0.297550</td>\n",
       "      <td>0.014326</td>\n",
       "      <td>0.002952</td>\n",
       "      <td>3.751084</td>\n",
       "      <td>2.956104</td>\n",
       "      <td>2.834763</td>\n",
       "      <td>4.244731</td>\n",
       "      <td>5.789519</td>\n",
       "      <td>0.063604</td>\n",
       "      <td>0.230037</td>\n",
       "      <td>0.003909</td>\n",
       "    </tr>\n",
       "    <tr>\n",
       "      <th>4</th>\n",
       "      <td>t1_dp5</td>\n",
       "      <td>0.104965</td>\n",
       "      <td>0.003375</td>\n",
       "      <td>0.00051</td>\n",
       "      <td>1.297975</td>\n",
       "      <td>0.297495</td>\n",
       "      <td>0.014327</td>\n",
       "      <td>0.002951</td>\n",
       "      <td>3.744040</td>\n",
       "      <td>2.955551</td>\n",
       "      <td>2.834237</td>\n",
       "      <td>4.245096</td>\n",
       "      <td>5.787312</td>\n",
       "      <td>0.063805</td>\n",
       "      <td>0.229800</td>\n",
       "      <td>0.003889</td>\n",
       "    </tr>\n",
       "    <tr>\n",
       "      <th>...</th>\n",
       "      <td>...</td>\n",
       "      <td>...</td>\n",
       "      <td>...</td>\n",
       "      <td>...</td>\n",
       "      <td>...</td>\n",
       "      <td>...</td>\n",
       "      <td>...</td>\n",
       "      <td>...</td>\n",
       "      <td>...</td>\n",
       "      <td>...</td>\n",
       "      <td>...</td>\n",
       "      <td>...</td>\n",
       "      <td>...</td>\n",
       "      <td>...</td>\n",
       "      <td>...</td>\n",
       "      <td>...</td>\n",
       "    </tr>\n",
       "    <tr>\n",
       "      <th>95</th>\n",
       "      <td>t1_dp96</td>\n",
       "      <td>0.104965</td>\n",
       "      <td>0.003375</td>\n",
       "      <td>0.00051</td>\n",
       "      <td>1.297975</td>\n",
       "      <td>0.297422</td>\n",
       "      <td>0.014332</td>\n",
       "      <td>0.002954</td>\n",
       "      <td>3.745282</td>\n",
       "      <td>2.956677</td>\n",
       "      <td>2.833539</td>\n",
       "      <td>4.246675</td>\n",
       "      <td>5.792656</td>\n",
       "      <td>0.061978</td>\n",
       "      <td>0.231620</td>\n",
       "      <td>0.003824</td>\n",
       "    </tr>\n",
       "    <tr>\n",
       "      <th>96</th>\n",
       "      <td>t1_dp97</td>\n",
       "      <td>0.104965</td>\n",
       "      <td>0.003375</td>\n",
       "      <td>0.00051</td>\n",
       "      <td>1.297975</td>\n",
       "      <td>0.297373</td>\n",
       "      <td>0.014327</td>\n",
       "      <td>0.002951</td>\n",
       "      <td>3.744417</td>\n",
       "      <td>2.956935</td>\n",
       "      <td>2.833074</td>\n",
       "      <td>4.245152</td>\n",
       "      <td>5.786224</td>\n",
       "      <td>0.063223</td>\n",
       "      <td>0.230315</td>\n",
       "      <td>0.003835</td>\n",
       "    </tr>\n",
       "    <tr>\n",
       "      <th>97</th>\n",
       "      <td>t1_dp98</td>\n",
       "      <td>0.104965</td>\n",
       "      <td>0.003375</td>\n",
       "      <td>0.00051</td>\n",
       "      <td>1.297975</td>\n",
       "      <td>0.297406</td>\n",
       "      <td>0.014326</td>\n",
       "      <td>0.002950</td>\n",
       "      <td>3.744634</td>\n",
       "      <td>2.956196</td>\n",
       "      <td>2.833393</td>\n",
       "      <td>4.244857</td>\n",
       "      <td>5.785734</td>\n",
       "      <td>0.064970</td>\n",
       "      <td>0.228606</td>\n",
       "      <td>0.003830</td>\n",
       "    </tr>\n",
       "    <tr>\n",
       "      <th>98</th>\n",
       "      <td>t1_dp99</td>\n",
       "      <td>0.104965</td>\n",
       "      <td>0.003375</td>\n",
       "      <td>0.00051</td>\n",
       "      <td>1.297975</td>\n",
       "      <td>0.297379</td>\n",
       "      <td>0.014320</td>\n",
       "      <td>0.002948</td>\n",
       "      <td>3.745420</td>\n",
       "      <td>2.954344</td>\n",
       "      <td>2.833136</td>\n",
       "      <td>4.243090</td>\n",
       "      <td>5.780920</td>\n",
       "      <td>0.062249</td>\n",
       "      <td>0.231299</td>\n",
       "      <td>0.003831</td>\n",
       "    </tr>\n",
       "    <tr>\n",
       "      <th>99</th>\n",
       "      <td>t1_dp100</td>\n",
       "      <td>0.104965</td>\n",
       "      <td>0.003375</td>\n",
       "      <td>0.00051</td>\n",
       "      <td>1.297975</td>\n",
       "      <td>0.297364</td>\n",
       "      <td>0.014320</td>\n",
       "      <td>0.002949</td>\n",
       "      <td>3.751541</td>\n",
       "      <td>2.957825</td>\n",
       "      <td>2.832988</td>\n",
       "      <td>4.242974</td>\n",
       "      <td>5.782344</td>\n",
       "      <td>0.061608</td>\n",
       "      <td>0.231945</td>\n",
       "      <td>0.003811</td>\n",
       "    </tr>\n",
       "  </tbody>\n",
       "</table>\n",
       "<p>100 rows × 16 columns</p>\n",
       "</div>"
      ],
      "text/plain": [
       "        case     L_pre     A_pre    V_pre  xyratio_pre    L_blow    A_blow  \\\n",
       "0     t1_dp1  0.104965  0.003375  0.00051     1.297975  0.297487  0.014325   \n",
       "1     t1_dp2  0.104965  0.003375  0.00051     1.297975  0.297424  0.014320   \n",
       "2     t1_dp3  0.104965  0.003375  0.00051     1.297975  0.298458  0.014331   \n",
       "3     t1_dp4  0.104965  0.003375  0.00051     1.297975  0.297550  0.014326   \n",
       "4     t1_dp5  0.104965  0.003375  0.00051     1.297975  0.297495  0.014327   \n",
       "..       ...       ...       ...      ...          ...       ...       ...   \n",
       "95   t1_dp96  0.104965  0.003375  0.00051     1.297975  0.297422  0.014332   \n",
       "96   t1_dp97  0.104965  0.003375  0.00051     1.297975  0.297373  0.014327   \n",
       "97   t1_dp98  0.104965  0.003375  0.00051     1.297975  0.297406  0.014326   \n",
       "98   t1_dp99  0.104965  0.003375  0.00051     1.297975  0.297379  0.014320   \n",
       "99  t1_dp100  0.104965  0.003375  0.00051     1.297975  0.297364  0.014320   \n",
       "\n",
       "      V_blow  xyratio_blow  y_blow/y_pre  L_blow/L_pre  A_blow/A_pre  \\\n",
       "0   0.002950      3.745982      2.955304      2.834158      4.244589   \n",
       "1   0.002948      3.747782      2.956612      2.833556      4.243136   \n",
       "2   0.002950      3.746032      2.952801      2.843409      4.246218   \n",
       "3   0.002952      3.751084      2.956104      2.834763      4.244731   \n",
       "4   0.002951      3.744040      2.955551      2.834237      4.245096   \n",
       "..       ...           ...           ...           ...           ...   \n",
       "95  0.002954      3.745282      2.956677      2.833539      4.246675   \n",
       "96  0.002951      3.744417      2.956935      2.833074      4.245152   \n",
       "97  0.002950      3.744634      2.956196      2.833393      4.244857   \n",
       "98  0.002948      3.745420      2.954344      2.833136      4.243090   \n",
       "99  0.002949      3.751541      2.957825      2.832988      4.242974   \n",
       "\n",
       "    V_blow/V_pre   bot_len  side_len   top_len  \n",
       "0       5.785178  0.063912  0.229694  0.003881  \n",
       "1       5.780028  0.063073  0.230426  0.003925  \n",
       "2       5.785469  0.065099  0.229499  0.003860  \n",
       "3       5.789519  0.063604  0.230037  0.003909  \n",
       "4       5.787312  0.063805  0.229800  0.003889  \n",
       "..           ...       ...       ...       ...  \n",
       "95      5.792656  0.061978  0.231620  0.003824  \n",
       "96      5.786224  0.063223  0.230315  0.003835  \n",
       "97      5.785734  0.064970  0.228606  0.003830  \n",
       "98      5.780920  0.062249  0.231299  0.003831  \n",
       "99      5.782344  0.061608  0.231945  0.003811  \n",
       "\n",
       "[100 rows x 16 columns]"
      ]
     },
     "execution_count": 108,
     "metadata": {},
     "output_type": "execute_result"
    }
   ],
   "source": [
    "xy_factor_table = pd.read_csv('./factor table/test%d_xy_factor_table.csv'%(int(testcase[-1])), index_col = 0)\n",
    "xy_factor_table"
   ]
  },
  {
   "cell_type": "code",
   "execution_count": 113,
   "metadata": {},
   "outputs": [],
   "source": [
    "top_len = xy_factor_table['top_len']\n",
    "bot_len = xy_factor_table['bot_len']"
   ]
  },
  {
   "cell_type": "code",
   "execution_count": 144,
   "metadata": {},
   "outputs": [],
   "source": [
    "for i in range(100):\n",
    "    exec(\"temp_thick = dp%d_blow_thick\"%(i+1))\n",
    "    \n",
    "    top_cut = np.where(temp_thick.iloc[:,0] > top_len[i])\n",
    "    top_cut_index = top_cut[0][0]\n",
    "    \n",
    "    bot_cut = np.where(temp_thick.iloc[:,0] >temp_thick.iloc[-1,0]-bot_len[i])\n",
    "    bot_cut_index = bot_cut[0][0]\n",
    "    \n",
    "    temp_side_thick = temp_thick.iloc[top_cut_index:bot_cut_index,:]\n",
    "    exec(\"dp%d_blow_side_thick = temp_side_thick\"%(i+1))"
   ]
  },
  {
   "cell_type": "markdown",
   "metadata": {},
   "source": [
    "### sidewall / GM-Gm"
   ]
  },
  {
   "cell_type": "code",
   "execution_count": 149,
   "metadata": {},
   "outputs": [],
   "source": [
    "side_GMGm_factor = []\n",
    "for i in range(100):\n",
    "    exec(\"temp_thick = dp%d_blow_side_thick\"%(i+1))\n",
    "    val = np.max(temp_thick.iloc[:,1])-np.min(temp_thick.iloc[:,1])\n",
    "    side_GMGm_factor = np.append(side_GMGm_factor,val)\n"
   ]
  },
  {
   "cell_type": "markdown",
   "metadata": {},
   "source": [
    "### sidewall / slope"
   ]
  },
  {
   "cell_type": "code",
   "execution_count": 150,
   "metadata": {},
   "outputs": [],
   "source": [
    "side_slope_factor = []\n",
    "for i in range(100):\n",
    "    exec(\"temp_thick = dp%d_blow_side_thick\"%(i+1))\n",
    "    slope_val = 0\n",
    "    for j in range(temp_thick.shape[0]-1):\n",
    "        slope = np.abs( (temp_thick.iloc[j+1,1]-temp_thick.iloc[j,1])/(temp_thick.iloc[j+1,0]-temp_thick.iloc[j,0]) )\n",
    "        slope_val = slope_val+slope\n",
    "    side_slope_factor = np.append(side_slope_factor,slope_val)"
   ]
  },
  {
   "cell_type": "markdown",
   "metadata": {},
   "source": [
    "# 내일 peak 개수 / PM-Gm 만들고 인자 만들기"
   ]
  },
  {
   "cell_type": "code",
   "execution_count": null,
   "metadata": {},
   "outputs": [],
   "source": []
  }
 ],
 "metadata": {
  "kernelspec": {
   "display_name": "Python 3",
   "language": "python",
   "name": "python3"
  },
  "language_info": {
   "codemirror_mode": {
    "name": "ipython",
    "version": 3
   },
   "file_extension": ".py",
   "mimetype": "text/x-python",
   "name": "python",
   "nbconvert_exporter": "python",
   "pygments_lexer": "ipython3",
   "version": "3.7.11"
  }
 },
 "nbformat": 4,
 "nbformat_minor": 4
}
