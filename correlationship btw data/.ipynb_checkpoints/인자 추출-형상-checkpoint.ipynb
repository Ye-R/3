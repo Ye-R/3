{
 "cells": [
  {
   "cell_type": "markdown",
   "metadata": {},
   "source": [
    "## 라이브러리 import"
   ]
  },
  {
   "cell_type": "code",
   "execution_count": 32,
   "metadata": {},
   "outputs": [],
   "source": [
    "import pandas as pd\n",
    "import numpy as np\n",
    "import matplotlib.pyplot as plt\n",
    "import seaborn           as sb\n",
    "import scipy.stats       as sp\n",
    "import sympy             as sm"
   ]
  },
  {
   "cell_type": "code",
   "execution_count": 3,
   "metadata": {},
   "outputs": [],
   "source": [
    "import tensorflow as tf\n",
    "from tensorflow import keras\n",
    "tf.random.set_seed(777)"
   ]
  },
  {
   "cell_type": "markdown",
   "metadata": {},
   "source": [
    "## 데이터 불러오기"
   ]
  },
  {
   "cell_type": "code",
   "execution_count": 20,
   "metadata": {},
   "outputs": [],
   "source": [
    "#몇차 데이터인지\n",
    "testcase = \"test1\""
   ]
  },
  {
   "cell_type": "markdown",
   "metadata": {},
   "source": [
    "## Preform-xy"
   ]
  },
  {
   "cell_type": "code",
   "execution_count": 21,
   "metadata": {},
   "outputs": [],
   "source": [
    "for i in range (100):\n",
    "    temp_data = pd.read_csv('./'+testcase+'/dp%d-preform-xy.csv'%(i+1),skiprows = 4, sep=',')\n",
    "    s = \"dp%d_preform_xy = temp_data\"%(i+1)\n",
    "    exec(s)"
   ]
  },
  {
   "cell_type": "code",
   "execution_count": 22,
   "metadata": {
    "scrolled": false
   },
   "outputs": [
    {
     "data": {
      "text/plain": [
       "[<matplotlib.lines.Line2D at 0x1b87d17c310>]"
      ]
     },
     "execution_count": 22,
     "metadata": {},
     "output_type": "execute_result"
    },
    {
     "data": {
      "image/png": "[encoded data removed]",
      "text/plain": [
       "<Figure size 360x432 with 1 Axes>"
      ]
     },
     "metadata": {
      "needs_background": "light"
     },
     "output_type": "display_data"
    }
   ],
   "source": [
    "plt.figure(figsize = (5,6))\n",
    "plt.grid(alpha = 0.5)\n",
    "plt.title(\"dp1_preform_xy\",fontsize = 16)\n",
    "plt.xlabel('X [m]')\n",
    "# plt.xlim(0,0.08)\n",
    "plt.ylabel('Y [m]')\n",
    "# plt.ylim(-0.35,0)\n",
    "plt.plot(dp1_preform_xy.iloc[:,0],dp1_preform_xy.iloc[:,1])\n",
    "# plt.scatter(dp1_preform_xy.iloc[:,0],dp1_preform_xy.iloc[:,1])\n",
    "# plt.savefig(\"D:/testoneblow/pictures/\"+testcase+\"_preform_thick.jpg\",bbox_inches = 'tight')"
   ]
  },
  {
   "cell_type": "markdown",
   "metadata": {},
   "source": [
    "### preform 길이"
   ]
  },
  {
   "cell_type": "code",
   "execution_count": 24,
   "metadata": {},
   "outputs": [
    {
     "name": "stdout",
     "output_type": "stream",
     "text": [
      "0.10496473866914251\n"
     ]
    }
   ],
   "source": [
    "preform_Length = 0\n",
    "for i in range(dp1_preform_xy.shape[0]-1):\n",
    "    x_diff = dp1_preform_xy.iloc[i+1,0]-dp1_preform_xy.iloc[i,0]\n",
    "    y_diff = dp1_preform_xy.iloc[i+1,1]-dp1_preform_xy.iloc[i,1]\n",
    "    point_Length = np.sqrt(np.square(x_diff)+np.square(y_diff))\n",
    "    preform_Length = preform_Length+point_Length\n",
    "print(preform_Length)"
   ]
  },
  {
   "cell_type": "code",
   "execution_count": 25,
   "metadata": {},
   "outputs": [
    {
     "data": {
      "text/plain": [
       "array([0.10496474, 0.10496474, 0.10496474, 0.10496474, 0.10496474,\n",
       "       0.10496474, 0.10496474, 0.10496474, 0.10496474, 0.10496474,\n",
       "       0.10496474, 0.10496474, 0.10496474, 0.10496474, 0.10496474,\n",
       "       0.10496474, 0.10496474, 0.10496474, 0.10496474, 0.10496474,\n",
       "       0.10496474, 0.10496474, 0.10496474, 0.10496474, 0.10496474,\n",
       "       0.10496474, 0.10496474, 0.10496474, 0.10496474, 0.10496474,\n",
       "       0.10496474, 0.10496474, 0.10496474, 0.10496474, 0.10496474,\n",
       "       0.10496474, 0.10496474, 0.10496474, 0.10496474, 0.10496474,\n",
       "       0.10496474, 0.10496474, 0.10496474, 0.10496474, 0.10496474,\n",
       "       0.10496474, 0.10496474, 0.10496474, 0.10496474, 0.10496474,\n",
       "       0.10496474, 0.10496474, 0.10496474, 0.10496474, 0.10496474,\n",
       "       0.10496474, 0.10496474, 0.10496474, 0.10496474, 0.10496474,\n",
       "       0.10496474, 0.10496474, 0.10496474, 0.10496474, 0.10496474,\n",
       "       0.10496474, 0.10496474, 0.10496474, 0.10496474, 0.10496474,\n",
       "       0.10496474, 0.10496474, 0.10496474, 0.10496474, 0.10496474,\n",
       "       0.10496474, 0.10496474, 0.10496474, 0.10496474, 0.10496474,\n",
       "       0.10496474, 0.10496474, 0.10496474, 0.10496474, 0.10496474,\n",
       "       0.10496474, 0.10496474, 0.10496474, 0.10496474, 0.10496474,\n",
       "       0.10496474, 0.10496474, 0.10496474, 0.10496474, 0.10496474,\n",
       "       0.10496474, 0.10496474, 0.10496474, 0.10496474, 0.10496474])"
      ]
     },
     "execution_count": 25,
     "metadata": {},
     "output_type": "execute_result"
    }
   ],
   "source": [
    "preform_length_factor = []\n",
    "for j in range(100):\n",
    "    exec(\"temp_preform_xy = dp%d_preform_xy\"%(j+1))\n",
    "    preform_Length = 0\n",
    "    for i in range(temp_preform_xy.shape[0]-1):\n",
    "        x_diff = temp_preform_xy.iloc[i+1,0]-temp_preform_xy.iloc[i,0]\n",
    "        y_diff = temp_preform_xy.iloc[i+1,1]-temp_preform_xy.iloc[i,1]\n",
    "        point_Length = np.sqrt(np.square(x_diff)+np.square(y_diff))\n",
    "        preform_Length = preform_Length+point_Length\n",
    "    preform_length_factor = np.append(preform_length_factor,preform_Length)\n",
    "preform_length_factor"
   ]
  },
  {
   "cell_type": "markdown",
   "metadata": {},
   "source": [
    "### preform 넓이"
   ]
  },
  {
   "cell_type": "code",
   "execution_count": 39,
   "metadata": {},
   "outputs": [
    {
     "name": "stdout",
     "output_type": "stream",
     "text": [
      "0.003374966885432095\n"
     ]
    }
   ],
   "source": [
    "#구분구적법으로 면적 구하기\n",
    "preform_area = 0\n",
    "for i in range(dp1_preform_xy.shape[0]-1):\n",
    "    height = np.abs(dp1_preform_xy.iloc[i+1,1]-dp1_preform_xy.iloc[i,1])\n",
    "    width = np.abs(dp1_preform_xy.iloc[i+1,0]+dp1_preform_xy.iloc[i,0])/2\n",
    "    area_ = height * width\n",
    "    preform_area = preform_area + area_\n",
    "print(preform_area)\n",
    "    "
   ]
  },
  {
   "cell_type": "code",
   "execution_count": 42,
   "metadata": {},
   "outputs": [
    {
     "data": {
      "text/plain": [
       "array([0.00337497, 0.00337497, 0.00337497, 0.00337497, 0.00337497,\n",
       "       0.00337497, 0.00337497, 0.00337497, 0.00337497, 0.00337497,\n",
       "       0.00337497, 0.00337497, 0.00337497, 0.00337497, 0.00337497,\n",
       "       0.00337497, 0.00337497, 0.00337497, 0.00337497, 0.00337497,\n",
       "       0.00337497, 0.00337497, 0.00337497, 0.00337497, 0.00337497,\n",
       "       0.00337497, 0.00337497, 0.00337497, 0.00337497, 0.00337497,\n",
       "       0.00337497, 0.00337497, 0.00337497, 0.00337497, 0.00337497,\n",
       "       0.00337497, 0.00337497, 0.00337497, 0.00337497, 0.00337497,\n",
       "       0.00337497, 0.00337497, 0.00337497, 0.00337497, 0.00337497,\n",
       "       0.00337497, 0.00337497, 0.00337497, 0.00337497, 0.00337497,\n",
       "       0.00337497, 0.00337497, 0.00337497, 0.00337497, 0.00337497,\n",
       "       0.00337497, 0.00337497, 0.00337497, 0.00337497, 0.00337497,\n",
       "       0.00337497, 0.00337497, 0.00337497, 0.00337497, 0.00337497,\n",
       "       0.00337497, 0.00337497, 0.00337497, 0.00337497, 0.00337497,\n",
       "       0.00337497, 0.00337497, 0.00337497, 0.00337497, 0.00337497,\n",
       "       0.00337497, 0.00337497, 0.00337497, 0.00337497, 0.00337497,\n",
       "       0.00337497, 0.00337497, 0.00337497, 0.00337497, 0.00337497,\n",
       "       0.00337497, 0.00337497, 0.00337497, 0.00337497, 0.00337497,\n",
       "       0.00337497, 0.00337497, 0.00337497, 0.00337497, 0.00337497,\n",
       "       0.00337497, 0.00337497, 0.00337497, 0.00337497, 0.00337497])"
      ]
     },
     "execution_count": 42,
     "metadata": {},
     "output_type": "execute_result"
    }
   ],
   "source": [
    "preform_area_factor = []\n",
    "for j in range(100):\n",
    "    exec(\"temp_preform_xy = dp%d_preform_xy\"%(j+1))\n",
    "    preform_area = 0\n",
    "    for i in range(temp_preform_xy.shape[0]-1):\n",
    "        height = np.abs(temp_preform_xy.iloc[i+1,1]-temp_preform_xy.iloc[i,1])\n",
    "        width = np.abs(temp_preform_xy.iloc[i+1,0]+temp_preform_xy.iloc[i,0])/2\n",
    "        area_ = height * width\n",
    "        preform_area = preform_area + area_\n",
    "    preform_area_factor = np.append(preform_area_factor,preform_area)\n",
    "    \n",
    "preform_area_factor\n"
   ]
  },
  {
   "cell_type": "markdown",
   "metadata": {},
   "source": [
    "### preform 부피"
   ]
  },
  {
   "cell_type": "code",
   "execution_count": 45,
   "metadata": {},
   "outputs": [
    {
     "name": "stdout",
     "output_type": "stream",
     "text": [
      "0.0005099583103279036\n"
     ]
    }
   ],
   "source": [
    "#구분구적법으로 면적 구하기\n",
    "preform_volume = 0\n",
    "for i in range(dp1_preform_xy.shape[0]-1):\n",
    "    height = np.abs(dp1_preform_xy.iloc[i+1,1]-dp1_preform_xy.iloc[i,1])\n",
    "    width = np.abs(dp1_preform_xy.iloc[i+1,0]+dp1_preform_xy.iloc[i,0])/2\n",
    "    bottom_area = np.pi* np.square(width)\n",
    "    volume_ = height * bottom_area\n",
    "    \n",
    "    preform_volume = preform_volume + volume_\n",
    "print(preform_volume)"
   ]
  },
  {
   "cell_type": "code",
   "execution_count": 47,
   "metadata": {},
   "outputs": [
    {
     "data": {
      "text/plain": [
       "array([0.00050996, 0.00050996, 0.00050996, 0.00050996, 0.00050996,\n",
       "       0.00050996, 0.00050996, 0.00050996, 0.00050996, 0.00050996,\n",
       "       0.00050996, 0.00050996, 0.00050996, 0.00050996, 0.00050996,\n",
       "       0.00050996, 0.00050996, 0.00050996, 0.00050996, 0.00050996,\n",
       "       0.00050996, 0.00050996, 0.00050996, 0.00050996, 0.00050996,\n",
       "       0.00050996, 0.00050996, 0.00050996, 0.00050996, 0.00050996,\n",
       "       0.00050996, 0.00050996, 0.00050996, 0.00050996, 0.00050996,\n",
       "       0.00050996, 0.00050996, 0.00050996, 0.00050996, 0.00050996,\n",
       "       0.00050996, 0.00050996, 0.00050996, 0.00050996, 0.00050996,\n",
       "       0.00050996, 0.00050996, 0.00050996, 0.00050996, 0.00050996,\n",
       "       0.00050996, 0.00050996, 0.00050996, 0.00050996, 0.00050996,\n",
       "       0.00050996, 0.00050996, 0.00050996, 0.00050996, 0.00050996,\n",
       "       0.00050996, 0.00050996, 0.00050996, 0.00050996, 0.00050996,\n",
       "       0.00050996, 0.00050996, 0.00050996, 0.00050996, 0.00050996,\n",
       "       0.00050996, 0.00050996, 0.00050996, 0.00050996, 0.00050996,\n",
       "       0.00050996, 0.00050996, 0.00050996, 0.00050996, 0.00050996,\n",
       "       0.00050996, 0.00050996, 0.00050996, 0.00050996, 0.00050996,\n",
       "       0.00050996, 0.00050996, 0.00050996, 0.00050996, 0.00050996,\n",
       "       0.00050996, 0.00050996, 0.00050996, 0.00050996, 0.00050996,\n",
       "       0.00050996, 0.00050996, 0.00050996, 0.00050996, 0.00050996])"
      ]
     },
     "execution_count": 47,
     "metadata": {},
     "output_type": "execute_result"
    }
   ],
   "source": [
    "preform_volume_factor = []\n",
    "for j in range(100):\n",
    "    exec(\"temp_preform_xy = dp%d_preform_xy\"%(j+1))\n",
    "    preform_volume = 0\n",
    "    for i in range(temp_preform_xy.shape[0]-1):\n",
    "        height = np.abs(temp_preform_xy.iloc[i+1,1]-temp_preform_xy.iloc[i,1])\n",
    "        width = np.abs(temp_preform_xy.iloc[i+1,0]+temp_preform_xy.iloc[i,0])/2\n",
    "        \n",
    "        bottom_area = np.pi* np.square(width)\n",
    "        \n",
    "        volume_ = height * bottom_area\n",
    "        \n",
    "        preform_volume = preform_volume + volume_\n",
    "    preform_volume_factor = np.append(preform_volume_factor,preform_volume)\n",
    "    \n",
    "preform_volume_factor\n"
   ]
  },
  {
   "cell_type": "markdown",
   "metadata": {},
   "source": [
    "### preform 가로세로 종횡비 = y_max / x_max"
   ]
  },
  {
   "cell_type": "code",
   "execution_count": 62,
   "metadata": {},
   "outputs": [
    {
     "data": {
      "text/plain": [
       "array([1.29797544, 1.29797544, 1.29797544, 1.29797544, 1.29797544,\n",
       "       1.29797544, 1.29797544, 1.29797544, 1.29797544, 1.29797544,\n",
       "       1.29797544, 1.29797544, 1.29797544, 1.29797544, 1.29797544,\n",
       "       1.29797544, 1.29797544, 1.29797544, 1.29797544, 1.29797544,\n",
       "       1.29797544, 1.29797544, 1.29797544, 1.29797544, 1.29797544,\n",
       "       1.29797544, 1.29797544, 1.29797544, 1.29797544, 1.29797544,\n",
       "       1.29797544, 1.29797544, 1.29797544, 1.29797544, 1.29797544,\n",
       "       1.29797544, 1.29797544, 1.29797544, 1.29797544, 1.29797544,\n",
       "       1.29797544, 1.29797544, 1.29797544, 1.29797544, 1.29797544,\n",
       "       1.29797544, 1.29797544, 1.29797544, 1.29797544, 1.29797544,\n",
       "       1.29797544, 1.29797544, 1.29797544, 1.29797544, 1.29797544,\n",
       "       1.29797544, 1.29797544, 1.29797544, 1.29797544, 1.29797544,\n",
       "       1.29797544, 1.29797544, 1.29797544, 1.29797544, 1.29797544,\n",
       "       1.29797544, 1.29797544, 1.29797544, 1.29797544, 1.29797544,\n",
       "       1.29797544, 1.29797544, 1.29797544, 1.29797544, 1.29797544,\n",
       "       1.29797544, 1.29797544, 1.29797544, 1.29797544, 1.29797544,\n",
       "       1.29797544, 1.29797544, 1.29797544, 1.29797544, 1.29797544,\n",
       "       1.29797544, 1.29797544, 1.29797544, 1.29797544, 1.29797544,\n",
       "       1.29797544, 1.29797544, 1.29797544, 1.29797544, 1.29797544,\n",
       "       1.29797544, 1.29797544, 1.29797544, 1.29797544, 1.29797544])"
      ]
     },
     "execution_count": 62,
     "metadata": {},
     "output_type": "execute_result"
    }
   ],
   "source": [
    "preform_xyratio_factor = []\n",
    "for j in range(100):\n",
    "    exec(\"temp_preform_xy = dp%d_preform_xy\"%(j+1))\n",
    "    x_max = np.max(np.abs(temp_preform_xy.iloc[:,0]))\n",
    "    y_max = np.max(np.abs(temp_preform_xy.iloc[:,1]))\n",
    "    xyratio = y_max/x_max\n",
    "    preform_xyratio_factor = np.append(preform_xyratio_factor,xyratio)\n",
    "preform_xyratio_factor\n"
   ]
  },
  {
   "cell_type": "markdown",
   "metadata": {},
   "source": [
    "## Blow-xy"
   ]
  },
  {
   "cell_type": "code",
   "execution_count": 27,
   "metadata": {},
   "outputs": [],
   "source": [
    "for i in range (100):\n",
    "    temp_data = pd.read_csv('./'+testcase+'/dp%d-blow-xy.csv'%(i+1),skiprows = 4, sep=',')\n",
    "    s = \"dp%d_blow_xy = temp_data\"%(i+1)\n",
    "    exec(s)"
   ]
  },
  {
   "cell_type": "markdown",
   "metadata": {},
   "source": [
    "### blow 길이"
   ]
  },
  {
   "cell_type": "code",
   "execution_count": 28,
   "metadata": {},
   "outputs": [
    {
     "data": {
      "text/plain": [
       "array([0.29748663, 0.2974235 , 0.29845765, 0.29755015, 0.2974949 ,\n",
       "       0.29749235, 0.29690091, 0.29739761, 0.29754297, 0.2969842 ,\n",
       "       0.29766017, 0.29752479, 0.29722009, 0.29729224, 0.29750498,\n",
       "       0.2973002 , 0.29746036, 0.2975181 , 0.29745919, 0.29737471,\n",
       "       0.29730366, 0.29745124, 0.29707917, 0.29765152, 0.29755576,\n",
       "       0.29740237, 0.29749881, 0.29748955, 0.29732668, 0.2974504 ,\n",
       "       0.29761106, 0.29733129, 0.29705012, 0.29750044, 0.29737197,\n",
       "       0.29743128, 0.29742441, 0.29755068, 0.29708308, 0.29730549,\n",
       "       0.29745082, 0.29753762, 0.29757596, 0.29716893, 0.29731013,\n",
       "       0.29732309, 0.29747373, 0.29756883, 0.29754864, 0.297522  ,\n",
       "       0.29739215, 0.29739524, 0.29734666, 0.29738628, 0.29720689,\n",
       "       0.29728664, 0.29735974, 0.29743278, 0.29748483, 0.29742796,\n",
       "       0.29725978, 0.29726145, 0.29680354, 0.29764295, 0.2971347 ,\n",
       "       0.29749228, 0.29715388, 0.29733225, 0.29741435, 0.29750509,\n",
       "       0.29717784, 0.29733453, 0.29704655, 0.29728833, 0.29751712,\n",
       "       0.29750261, 0.29739624, 0.29724246, 0.29736346, 0.29753786,\n",
       "       0.29736297, 0.29740488, 0.29753445, 0.29750046, 0.2974099 ,\n",
       "       0.29738267, 0.29728837, 0.29703134, 0.297467  , 0.29750527,\n",
       "       0.29740005, 0.29692021, 0.2970856 , 0.29756437, 0.29741255,\n",
       "       0.29742173, 0.2973729 , 0.29740634, 0.29737942, 0.29736381])"
      ]
     },
     "execution_count": 28,
     "metadata": {},
     "output_type": "execute_result"
    }
   ],
   "source": [
    "blow_length_factor = []\n",
    "for j in range(100):\n",
    "    exec(\"temp_blow_xy = dp%d_blow_xy\"%(j+1))\n",
    "    blow_Length = 0\n",
    "    for i in range(temp_blow_xy.shape[0]-1):\n",
    "        x_diff = temp_blow_xy.iloc[i+1,0]-temp_blow_xy.iloc[i,0]\n",
    "        y_diff = temp_blow_xy.iloc[i+1,1]-temp_blow_xy.iloc[i,1]\n",
    "        point_Length = np.sqrt(np.square(x_diff)+np.square(y_diff))\n",
    "        blow_Length = blow_Length+point_Length\n",
    "    blow_length_factor = np.append(blow_length_factor,blow_Length)\n",
    "blow_length_factor"
   ]
  },
  {
   "cell_type": "markdown",
   "metadata": {},
   "source": [
    "### blow 넓이"
   ]
  },
  {
   "cell_type": "code",
   "execution_count": 43,
   "metadata": {},
   "outputs": [
    {
     "data": {
      "text/plain": [
       "array([0.01518684, 0.0151779 , 0.01518708, 0.01520019, 0.01519099,\n",
       "       0.01518213, 0.01517604, 0.01518327, 0.01520081, 0.01519588,\n",
       "       0.0151976 , 0.01518451, 0.01518585, 0.01517581, 0.01518046,\n",
       "       0.01517831, 0.01519047, 0.01517496, 0.01518252, 0.01515478,\n",
       "       0.01516374, 0.01518543, 0.01518506, 0.01519592, 0.0152034 ,\n",
       "       0.01520356, 0.01518238, 0.01519004, 0.01516579, 0.01517029,\n",
       "       0.01520116, 0.01518465, 0.01518443, 0.0151813 , 0.01518095,\n",
       "       0.01518593, 0.01518962, 0.01519326, 0.01517346, 0.01518857,\n",
       "       0.01519204, 0.0151824 , 0.01518164, 0.01514524, 0.01515059,\n",
       "       0.01518824, 0.01518593, 0.01519303, 0.01519163, 0.01518479,\n",
       "       0.01515524, 0.01517811, 0.01518681, 0.01517421, 0.01517384,\n",
       "       0.01518579, 0.01518454, 0.01518604, 0.01520239, 0.01518199,\n",
       "       0.01516256, 0.01515332, 0.01517086, 0.01518478, 0.01519457,\n",
       "       0.01518628, 0.01518353, 0.01516734, 0.01516919, 0.01519803,\n",
       "       0.01518455, 0.01518239, 0.01516641, 0.01517802, 0.01520765,\n",
       "       0.01518214, 0.01518155, 0.01518039, 0.01517706, 0.01519237,\n",
       "       0.01517189, 0.01517226, 0.01519134, 0.01520009, 0.01518865,\n",
       "       0.01515803, 0.01515558, 0.01516512, 0.01518128, 0.01517841,\n",
       "       0.01518334, 0.01517902, 0.01518453, 0.01519962, 0.01519958,\n",
       "       0.01519877, 0.01518671, 0.01518531, 0.01517915, 0.01518645])"
      ]
     },
     "execution_count": 43,
     "metadata": {},
     "output_type": "execute_result"
    }
   ],
   "source": [
    "blow_area_factor = []\n",
    "for j in range(100):\n",
    "    exec(\"temp_blow_xy = dp%d_blow_xy\"%(j+1))\n",
    "    blow_area = 0\n",
    "    for i in range(temp_blow_xy.shape[0]-1):\n",
    "        height = np.abs(temp_blow_xy.iloc[i+1,1]-temp_blow_xy.iloc[i,1])\n",
    "        width = np.abs(temp_blow_xy.iloc[i+1,0]+temp_blow_xy.iloc[i,0])/2\n",
    "        area_ = height * width\n",
    "        blow_area = blow_area + area_\n",
    "    blow_area_factor = np.append(blow_area_factor,blow_area)\n",
    "    \n",
    "blow_area_factor\n"
   ]
  },
  {
   "cell_type": "markdown",
   "metadata": {},
   "source": [
    "### blow 부피"
   ]
  },
  {
   "cell_type": "code",
   "execution_count": 48,
   "metadata": {},
   "outputs": [
    {
     "data": {
      "text/plain": [
       "array([0.0029502 , 0.00294757, 0.00295035, 0.00295241, 0.00295129,\n",
       "       0.00294951, 0.00294688, 0.00294964, 0.00295229, 0.00294951,\n",
       "       0.00295149, 0.00294907, 0.00294817, 0.00294757, 0.00294867,\n",
       "       0.00294727, 0.00295087, 0.00294691, 0.00294924, 0.00294438,\n",
       "       0.00294548, 0.00294986, 0.00294941, 0.00295142, 0.00295286,\n",
       "       0.00295211, 0.00294906, 0.00295103, 0.0029456 , 0.00294649,\n",
       "       0.0029537 , 0.00294832, 0.002949  , 0.00294934, 0.00294893,\n",
       "       0.00294874, 0.00294923, 0.00295148, 0.00294484, 0.00294926,\n",
       "       0.00295106, 0.00294854, 0.00294874, 0.00294257, 0.00294272,\n",
       "       0.00294988, 0.00294859, 0.00295097, 0.00295118, 0.00294941,\n",
       "       0.00294326, 0.00294712, 0.00295094, 0.00294855, 0.00294697,\n",
       "       0.00294885, 0.0029499 , 0.0029505 , 0.00295497, 0.00294934,\n",
       "       0.00294489, 0.00294452, 0.00294395, 0.00294933, 0.00294989,\n",
       "       0.00294945, 0.00294902, 0.00294592, 0.00294653, 0.00295178,\n",
       "       0.00294907, 0.00294797, 0.00294338, 0.00294791, 0.00295343,\n",
       "       0.00294893, 0.0029484 , 0.00294823, 0.00294739, 0.0029493 ,\n",
       "       0.00294737, 0.00294685, 0.00295123, 0.00295181, 0.00295151,\n",
       "       0.00294488, 0.00294443, 0.00294606, 0.00294888, 0.0029482 ,\n",
       "       0.0029487 , 0.00294707, 0.0029483 , 0.00295156, 0.0029543 ,\n",
       "       0.00295401, 0.00295073, 0.00295048, 0.00294803, 0.00294875])"
      ]
     },
     "execution_count": 48,
     "metadata": {},
     "output_type": "execute_result"
    }
   ],
   "source": [
    "blow_volume_factor = []\n",
    "for j in range(100):\n",
    "    exec(\"temp_blow_xy = dp%d_blow_xy\"%(j+1))\n",
    "    blow_volume = 0\n",
    "    for i in range(temp_blow_xy.shape[0]-1):\n",
    "        height = np.abs(temp_blow_xy.iloc[i+1,1]-temp_blow_xy.iloc[i,1])\n",
    "        width = np.abs(temp_blow_xy.iloc[i+1,0]+temp_blow_xy.iloc[i,0])/2\n",
    "        \n",
    "        bottom_area = np.pi* np.square(width)\n",
    "        \n",
    "        volume_ = height * bottom_area\n",
    "        \n",
    "        blow_volume = blow_volume + volume_\n",
    "    blow_volume_factor = np.append(blow_volume_factor,blow_volume)\n",
    "    \n",
    "blow_volume_factor\n"
   ]
  },
  {
   "cell_type": "markdown",
   "metadata": {},
   "source": [
    "### blow 가로세로 종횡비 = y_max / x_max"
   ]
  },
  {
   "cell_type": "code",
   "execution_count": 63,
   "metadata": {},
   "outputs": [
    {
     "data": {
      "text/plain": [
       "array([3.74598203, 3.74778182, 3.74603175, 3.75108438, 3.74404009,\n",
       "       3.74275352, 3.74328317, 3.74543108, 3.752794  , 3.75006501,\n",
       "       3.75236602, 3.74946272, 3.7481034 , 3.74855621, 3.74788045,\n",
       "       3.7519273 , 3.74935426, 3.7501428 , 3.746053  , 3.74662766,\n",
       "       3.74360936, 3.74548658, 3.75025401, 3.74529007, 3.74805832,\n",
       "       3.75444534, 3.74970488, 3.7481964 , 3.74764264, 3.7430039 ,\n",
       "       3.74953096, 3.75050754, 3.74601504, 3.74777823, 3.7441    ,\n",
       "       3.75133602, 3.75324977, 3.74801604, 3.75487431, 3.75466658,\n",
       "       3.7485516 , 3.74938508, 3.7492347 , 3.74176577, 3.74395117,\n",
       "       3.75186998, 3.75318518, 3.75218764, 3.74770147, 3.75046493,\n",
       "       3.74577072, 3.75078356, 3.74588771, 3.74340542, 3.74907949,\n",
       "       3.75010756, 3.74773406, 3.74610064, 3.7486806 , 3.74468047,\n",
       "       3.74797731, 3.74413813, 3.74783012, 3.74691532, 3.75218774,\n",
       "       3.7500573 , 3.7480338 , 3.7496713 , 3.74535616, 3.75214783,\n",
       "       3.74930788, 3.75122751, 3.74994624, 3.74729661, 3.7521202 ,\n",
       "       3.74482109, 3.7473936 , 3.74738437, 3.74650408, 3.75314455,\n",
       "       3.7473341 , 3.75173989, 3.74722057, 3.75064023, 3.74352217,\n",
       "       3.74147315, 3.74358406, 3.74268939, 3.74702597, 3.74840971,\n",
       "       3.7533801 , 3.74487482, 3.74903758, 3.75108941, 3.74550373,\n",
       "       3.74528218, 3.74441722, 3.74463431, 3.74542003, 3.7515413 ])"
      ]
     },
     "execution_count": 63,
     "metadata": {},
     "output_type": "execute_result"
    }
   ],
   "source": [
    "blow_xyratio_factor = []\n",
    "for j in range(100):\n",
    "    exec(\"temp_blow_xy = dp%d_blow_xy\"%(j+1))\n",
    "    x_max = np.max(np.abs(temp_blow_xy.iloc[:,0]))\n",
    "    y_max = np.max(np.abs(temp_blow_xy.iloc[:,1]))\n",
    "    xyratio = y_max/x_max\n",
    "    blow_xyratio_factor = np.append(blow_xyratio_factor,xyratio)\n",
    "blow_xyratio_factor\n"
   ]
  },
  {
   "cell_type": "markdown",
   "metadata": {},
   "source": [
    "## stretch_1_factor = y_blow / y_pre"
   ]
  },
  {
   "cell_type": "code",
   "execution_count": 53,
   "metadata": {},
   "outputs": [
    {
     "data": {
      "text/plain": [
       "array([2.95530441, 2.95661179, 2.95280127, 2.95610352, 2.95555144,\n",
       "       2.95624065, 2.95585827, 2.95616745, 2.95506133, 2.954161  ,\n",
       "       2.95544313, 2.95467676, 2.9559948 , 2.95468111, 2.95659009,\n",
       "       2.95425847, 2.95651906, 2.95645888, 2.95522865, 2.95556703,\n",
       "       2.95738288, 2.95518208, 2.9566033 , 2.95669525, 2.9553853 ,\n",
       "       2.95522628, 2.95652853, 2.9543664 , 2.95465566, 2.95552559,\n",
       "       2.95417659, 2.95692531, 2.9568675 , 2.9567797 , 2.95652399,\n",
       "       2.95680101, 2.9552174 , 2.95667355, 2.95657153, 2.95770844,\n",
       "       2.95445401, 2.95432911, 2.95485198, 2.95464776, 2.95623927,\n",
       "       2.95578545, 2.95731106, 2.95674419, 2.95417461, 2.95514774,\n",
       "       2.95534367, 2.95453372, 2.95649873, 2.95630912, 2.95496603,\n",
       "       2.95427445, 2.95656147, 2.95555243, 2.95423952, 2.95421368,\n",
       "       2.95623907, 2.95819066, 2.95639692, 2.95657114, 2.95655753,\n",
       "       2.95568502, 2.95488355, 2.95559071, 2.95596283, 2.95525726,\n",
       "       2.95798626, 2.95781321, 2.95628959, 2.95425985, 2.95547904,\n",
       "       2.95445124, 2.95669722, 2.95577599, 2.956831  , 2.95580873,\n",
       "       2.95654234, 2.95441672, 2.95685232, 2.95636396, 2.95519254,\n",
       "       2.95480818, 2.95617377, 2.95479653, 2.9545059 , 2.95685409,\n",
       "       2.95431371, 2.95737636, 2.95614772, 2.95569725, 2.95431963,\n",
       "       2.95667651, 2.95693478, 2.95619585, 2.9543443 , 2.95782544])"
      ]
     },
     "execution_count": 53,
     "metadata": {},
     "output_type": "execute_result"
    }
   ],
   "source": [
    "stretch_1_factor = []\n",
    "for j in range(100):\n",
    "    exec(\"temp_preform_xy = dp%d_preform_xy\"%(j+1))\n",
    "    exec(\"temp_blow_xy = dp%d_blow_xy\"%(j+1))\n",
    "    y_pre = np.abs(temp_preform_xy.iloc[0,1]-temp_preform_xy.iloc[-1,1])\n",
    "    y_blow = np.abs(temp_blow_xy.iloc[0,1]-temp_blow_xy.iloc[-1,1])\n",
    "    stretch_1 = y_blow/y_pre\n",
    "    stretch_1_factor = np.append(stretch_1_factor,stretch_1)\n",
    "    \n",
    "stretch_1_factor"
   ]
  },
  {
   "cell_type": "markdown",
   "metadata": {},
   "source": [
    "### stretch_2_factor = L_blow / L_pre"
   ]
  },
  {
   "cell_type": "code",
   "execution_count": 59,
   "metadata": {},
   "outputs": [
    {
     "data": {
      "text/plain": [
       "array([2.83415778, 2.83355635, 2.8434087 , 2.83476294, 2.83423653,\n",
       "       2.83421228, 2.82857764, 2.83330965, 2.83469451, 2.8293711 ,\n",
       "       2.83581113, 2.83452132, 2.83161841, 2.8323058 , 2.83433262,\n",
       "       2.83238165, 2.83390749, 2.8344576 , 2.83389635, 2.83309154,\n",
       "       2.83241462, 2.83382063, 2.83027587, 2.83572864, 2.83481641,\n",
       "       2.83335501, 2.83427383, 2.8341856 , 2.83263396, 2.83381265,\n",
       "       2.83534317, 2.83267786, 2.82999918, 2.8342893 , 2.83306541,\n",
       "       2.83363043, 2.83356504, 2.83476795, 2.83031319, 2.83243204,\n",
       "       2.83381661, 2.83464358, 2.83500886, 2.83113108, 2.83247621,\n",
       "       2.8325997 , 2.83403484, 2.83494086, 2.83474855, 2.8344947 ,\n",
       "       2.8332577 , 2.83328712, 2.83282424, 2.83320175, 2.83149268,\n",
       "       2.8322525 , 2.83294893, 2.83364474, 2.83414064, 2.83359883,\n",
       "       2.83199659, 2.83201248, 2.82764994, 2.83564707, 2.83080492,\n",
       "       2.83421161, 2.83098764, 2.83268701, 2.83346912, 2.83433361,\n",
       "       2.83121595, 2.83270875, 2.82996516, 2.83226858, 2.83444822,\n",
       "       2.83431006, 2.8332966 , 2.83183158, 2.83298436, 2.83464581,\n",
       "       2.83297969, 2.83337896, 2.83461337, 2.83428951, 2.8334268 ,\n",
       "       2.83316738, 2.83226892, 2.82982023, 2.83397079, 2.83433532,\n",
       "       2.83333288, 2.82876149, 2.83033718, 2.83489841, 2.83345203,\n",
       "       2.83353949, 2.83307422, 2.83339285, 2.83313639, 2.83298765])"
      ]
     },
     "execution_count": 59,
     "metadata": {},
     "output_type": "execute_result"
    }
   ],
   "source": [
    "stretch_2_factor = blow_length_factor / preform_length_factor\n",
    "stretch_2_factor"
   ]
  },
  {
   "cell_type": "markdown",
   "metadata": {},
   "source": [
    "### stretch_3_factor = A_blow / A_pre"
   ]
  },
  {
   "cell_type": "code",
   "execution_count": 60,
   "metadata": {},
   "outputs": [
    {
     "data": {
      "text/plain": [
       "array([4.4998477 , 4.49719932, 4.49991852, 4.5038036 , 4.50107871,\n",
       "       4.49845203, 4.4966486 , 4.4987921 , 4.50398683, 4.50252596,\n",
       "       4.5030363 , 4.4991584 , 4.49955414, 4.49657918, 4.49795834,\n",
       "       4.49732148, 4.50092319, 4.49632859, 4.49856812, 4.49034907,\n",
       "       4.4930032 , 4.49943224, 4.49932065, 4.50253957, 4.5047559 ,\n",
       "       4.50480253, 4.49852566, 4.50079659, 4.49361247, 4.49494343,\n",
       "       4.50409091, 4.49919984, 4.4991342 , 4.49820749, 4.49810226,\n",
       "       4.49957818, 4.50067356, 4.50175106, 4.49588307, 4.50036238,\n",
       "       4.50138931, 4.49853301, 4.49830751, 4.48752202, 4.4891088 ,\n",
       "       4.50026224, 4.49957953, 4.50168246, 4.50126671, 4.49924028,\n",
       "       4.49048665, 4.49726338, 4.49983849, 4.4961056 , 4.49599806,\n",
       "       4.49953638, 4.49916808, 4.49961173, 4.50445469, 4.49841053,\n",
       "       4.4926544 , 4.48991718, 4.49511349, 4.49923911, 4.50213845,\n",
       "       4.49968315, 4.49886893, 4.49406953, 4.49461933, 4.50316277,\n",
       "       4.49917092, 4.4985312 , 4.49379664, 4.49723625, 4.50601421,\n",
       "       4.49845596, 4.4982824 , 4.49793892, 4.49695172, 4.50148689,\n",
       "       4.49541796, 4.49552784, 4.50118187, 4.50377458, 4.5003848 ,\n",
       "       4.49131179, 4.49058726, 4.49341281, 4.49820079, 4.49734945,\n",
       "       4.49881047, 4.49753072, 4.49916332, 4.50363586, 4.50362459,\n",
       "       4.50338384, 4.49981132, 4.49939483, 4.49757056, 4.49973437])"
      ]
     },
     "execution_count": 60,
     "metadata": {},
     "output_type": "execute_result"
    }
   ],
   "source": [
    "stretch_3_factor = blow_area_factor / preform_area_factor\n",
    "stretch_3_factor"
   ]
  },
  {
   "cell_type": "markdown",
   "metadata": {},
   "source": [
    "### stretch_4_factor = V_blow / V_pre"
   ]
  },
  {
   "cell_type": "code",
   "execution_count": 61,
   "metadata": {},
   "outputs": [
    {
     "data": {
      "text/plain": [
       "array([5.78517848, 5.78002758, 5.78546886, 5.78951886, 5.78731191,\n",
       "       5.78382504, 5.77867663, 5.78408572, 5.78928673, 5.78383405,\n",
       "       5.78771229, 5.78295485, 5.78119942, 5.78002204, 5.78217748,\n",
       "       5.77943955, 5.78649811, 5.77873673, 5.78329282, 5.773767  ,\n",
       "       5.77592518, 5.78450414, 5.78363433, 5.78757022, 5.79039486,\n",
       "       5.78891976, 5.78293794, 5.78680636, 5.77615977, 5.77789567,\n",
       "       5.79204727, 5.78148429, 5.78282527, 5.78349292, 5.78268395,\n",
       "       5.78230919, 5.78328636, 5.7876918 , 5.77466793, 5.78332715,\n",
       "       5.78686675, 5.78192484, 5.78232175, 5.77022372, 5.77050924,\n",
       "       5.78456006, 5.78201396, 5.78667931, 5.78709446, 5.7836289 ,\n",
       "       5.77157076, 5.77914685, 5.78662768, 5.78194413, 5.77885354,\n",
       "       5.78252315, 5.78459384, 5.78575881, 5.79452918, 5.78349025,\n",
       "       5.77476332, 5.77403517, 5.77293201, 5.78346578, 5.78457574,\n",
       "       5.78370879, 5.7828742 , 5.77679281, 5.77797521, 5.78828553,\n",
       "       5.78295879, 5.78080366, 5.77180402, 5.78068485, 5.79152165,\n",
       "       5.78268981, 5.7816576 , 5.78132163, 5.77967472, 5.78341495,\n",
       "       5.77962015, 5.77861692, 5.78719336, 5.78834305, 5.78774805,\n",
       "       5.77475208, 5.77386253, 5.77706559, 5.78258957, 5.78125248,\n",
       "       5.78222943, 5.77903628, 5.78144758, 5.78783948, 5.79322151,\n",
       "       5.79265624, 5.78622415, 5.78573354, 5.78092046, 5.78234436])"
      ]
     },
     "execution_count": 61,
     "metadata": {},
     "output_type": "execute_result"
    }
   ],
   "source": [
    "stretch_4_factor = blow_volume_factor / preform_volume_factor\n",
    "stretch_4_factor"
   ]
  },
  {
   "cell_type": "markdown",
   "metadata": {},
   "source": [
    "### blow 대각길이 / 옆면길이 / 바닥길이"
   ]
  },
  {
   "cell_type": "code",
   "execution_count": 156,
   "metadata": {},
   "outputs": [
    {
     "name": "stdout",
     "output_type": "stream",
     "text": [
      "temp_blow_xy = dp1_blow_xy\n",
      "front cut index :  23\n",
      "back cut index :  5\n",
      "\t\n",
      "temp_blow_xy = dp2_blow_xy\n",
      "front cut index :  37\n",
      "back cut index :  5\n",
      "\t\n",
      "temp_blow_xy = dp3_blow_xy\n",
      "front cut index :  26\n",
      "back cut index :  5\n",
      "\t\n",
      "temp_blow_xy = dp4_blow_xy\n",
      "front cut index :  26\n",
      "back cut index :  5\n",
      "\t\n",
      "temp_blow_xy = dp5_blow_xy\n",
      "front cut index :  28\n",
      "back cut index :  5\n",
      "\t\n",
      "temp_blow_xy = dp6_blow_xy\n",
      "front cut index :  37\n",
      "back cut index :  5\n",
      "\t\n",
      "temp_blow_xy = dp7_blow_xy\n",
      "front cut index :  20\n",
      "back cut index :  5\n",
      "\t\n",
      "temp_blow_xy = dp8_blow_xy\n",
      "front cut index :  38\n",
      "back cut index :  5\n",
      "\t\n",
      "temp_blow_xy = dp9_blow_xy\n",
      "front cut index :  25\n",
      "back cut index :  5\n",
      "\t\n",
      "temp_blow_xy = dp10_blow_xy\n",
      "front cut index :  18\n",
      "back cut index :  5\n",
      "\t\n",
      "temp_blow_xy = dp11_blow_xy\n",
      "front cut index :  30\n",
      "back cut index :  5\n",
      "\t\n",
      "temp_blow_xy = dp12_blow_xy\n",
      "front cut index :  26\n",
      "back cut index :  5\n",
      "\t\n",
      "temp_blow_xy = dp13_blow_xy\n",
      "front cut index :  20\n",
      "back cut index :  5\n",
      "\t\n",
      "temp_blow_xy = dp14_blow_xy\n",
      "front cut index :  22\n",
      "back cut index :  5\n",
      "\t\n",
      "temp_blow_xy = dp15_blow_xy\n",
      "front cut index :  27\n",
      "back cut index :  5\n",
      "\t\n",
      "temp_blow_xy = dp16_blow_xy\n",
      "front cut index :  34\n",
      "back cut index :  5\n",
      "\t\n",
      "temp_blow_xy = dp17_blow_xy\n",
      "front cut index :  30\n",
      "back cut index :  5\n",
      "\t\n",
      "temp_blow_xy = dp18_blow_xy\n",
      "front cut index :  23\n",
      "back cut index :  5\n",
      "\t\n",
      "temp_blow_xy = dp19_blow_xy\n",
      "front cut index :  36\n",
      "back cut index :  5\n",
      "\t\n",
      "temp_blow_xy = dp20_blow_xy\n",
      "front cut index :  21\n",
      "back cut index :  5\n",
      "\t\n",
      "temp_blow_xy = dp21_blow_xy\n",
      "front cut index :  19\n",
      "back cut index :  5\n",
      "\t\n",
      "temp_blow_xy = dp22_blow_xy\n",
      "front cut index :  24\n",
      "back cut index :  5\n",
      "\t\n",
      "temp_blow_xy = dp23_blow_xy\n",
      "front cut index :  21\n",
      "back cut index :  5\n",
      "\t\n",
      "temp_blow_xy = dp24_blow_xy\n",
      "front cut index :  31\n",
      "back cut index :  5\n",
      "\t\n",
      "temp_blow_xy = dp25_blow_xy\n",
      "front cut index :  24\n",
      "back cut index :  5\n",
      "\t\n",
      "temp_blow_xy = dp26_blow_xy\n",
      "front cut index :  24\n",
      "back cut index :  5\n",
      "\t\n",
      "temp_blow_xy = dp27_blow_xy\n",
      "front cut index :  33\n",
      "back cut index :  5\n",
      "\t\n",
      "temp_blow_xy = dp28_blow_xy\n",
      "front cut index :  35\n",
      "back cut index :  5\n",
      "\t\n",
      "temp_blow_xy = dp29_blow_xy\n",
      "front cut index :  23\n",
      "back cut index :  5\n",
      "\t\n",
      "temp_blow_xy = dp30_blow_xy\n",
      "front cut index :  22\n",
      "back cut index :  5\n",
      "\t\n",
      "temp_blow_xy = dp31_blow_xy\n",
      "front cut index :  28\n",
      "back cut index :  5\n",
      "\t\n",
      "temp_blow_xy = dp32_blow_xy\n",
      "front cut index :  20\n",
      "back cut index :  5\n",
      "\t\n",
      "temp_blow_xy = dp33_blow_xy\n",
      "front cut index :  20\n",
      "back cut index :  5\n",
      "\t\n",
      "temp_blow_xy = dp34_blow_xy\n",
      "front cut index :  38\n",
      "back cut index :  5\n",
      "\t\n",
      "temp_blow_xy = dp35_blow_xy\n",
      "front cut index :  20\n",
      "back cut index :  5\n",
      "\t\n",
      "temp_blow_xy = dp36_blow_xy\n",
      "front cut index :  24\n",
      "back cut index :  5\n",
      "\t\n",
      "temp_blow_xy = dp37_blow_xy\n",
      "front cut index :  24\n",
      "back cut index :  5\n",
      "\t\n",
      "temp_blow_xy = dp38_blow_xy\n",
      "front cut index :  33\n",
      "back cut index :  5\n",
      "\t\n",
      "temp_blow_xy = dp39_blow_xy\n",
      "front cut index :  20\n",
      "back cut index :  5\n",
      "\t\n",
      "temp_blow_xy = dp40_blow_xy\n",
      "front cut index :  21\n",
      "back cut index :  5\n",
      "\t\n",
      "temp_blow_xy = dp41_blow_xy\n",
      "front cut index :  34\n",
      "back cut index :  5\n",
      "\t\n",
      "temp_blow_xy = dp42_blow_xy\n",
      "front cut index :  34\n",
      "back cut index :  5\n",
      "\t\n",
      "temp_blow_xy = dp43_blow_xy\n",
      "front cut index :  23\n",
      "back cut index :  4\n",
      "\t\n",
      "temp_blow_xy = dp44_blow_xy\n",
      "front cut index :  20\n",
      "back cut index :  4\n",
      "\t\n",
      "temp_blow_xy = dp45_blow_xy\n",
      "front cut index :  21\n",
      "back cut index :  5\n",
      "\t\n",
      "temp_blow_xy = dp46_blow_xy\n",
      "front cut index :  20\n",
      "back cut index :  5\n",
      "\t\n",
      "temp_blow_xy = dp47_blow_xy\n",
      "front cut index :  22\n",
      "back cut index :  5\n",
      "\t\n",
      "temp_blow_xy = dp48_blow_xy\n",
      "front cut index :  31\n",
      "back cut index :  4\n",
      "\t\n",
      "temp_blow_xy = dp49_blow_xy\n",
      "front cut index :  34\n",
      "back cut index :  5\n",
      "\t\n",
      "temp_blow_xy = dp50_blow_xy\n",
      "front cut index :  28\n",
      "back cut index :  5\n",
      "\t\n",
      "temp_blow_xy = dp51_blow_xy\n",
      "front cut index :  23\n",
      "back cut index :  5\n",
      "\t\n",
      "temp_blow_xy = dp52_blow_xy\n",
      "front cut index :  34\n",
      "back cut index :  5\n",
      "\t\n",
      "temp_blow_xy = dp53_blow_xy\n",
      "front cut index :  36\n",
      "back cut index :  4\n",
      "\t\n",
      "temp_blow_xy = dp54_blow_xy\n",
      "front cut index :  24\n",
      "back cut index :  4\n",
      "\t\n",
      "temp_blow_xy = dp55_blow_xy\n",
      "front cut index :  21\n",
      "back cut index :  4\n",
      "\t\n",
      "temp_blow_xy = dp56_blow_xy\n",
      "front cut index :  21\n",
      "back cut index :  5\n",
      "\t\n",
      "temp_blow_xy = dp57_blow_xy\n",
      "front cut index :  27\n",
      "back cut index :  4\n",
      "\t\n",
      "temp_blow_xy = dp58_blow_xy\n",
      "front cut index :  24\n",
      "back cut index :  4\n",
      "\t\n",
      "temp_blow_xy = dp59_blow_xy\n",
      "front cut index :  34\n",
      "back cut index :  5\n",
      "\t\n",
      "temp_blow_xy = dp60_blow_xy\n",
      "front cut index :  34\n",
      "back cut index :  4\n",
      "\t\n",
      "temp_blow_xy = dp61_blow_xy\n",
      "front cut index :  20\n",
      "back cut index :  5\n",
      "\t\n",
      "temp_blow_xy = dp62_blow_xy\n",
      "front cut index :  19\n",
      "back cut index :  5\n",
      "\t\n",
      "temp_blow_xy = dp63_blow_xy\n",
      "front cut index :  20\n",
      "back cut index :  4\n",
      "\t\n",
      "temp_blow_xy = dp64_blow_xy\n",
      "front cut index :  29\n",
      "back cut index :  5\n",
      "\t\n",
      "temp_blow_xy = dp65_blow_xy\n",
      "front cut index :  20\n",
      "back cut index :  5\n",
      "\t\n",
      "temp_blow_xy = dp66_blow_xy\n",
      "front cut index :  34\n",
      "back cut index :  5\n",
      "\t\n"
     ]
    },
    {
     "name": "stderr",
     "output_type": "stream",
     "text": [
      "<ipython-input-156-152d58c451f6>:8: RuntimeWarning: divide by zero encountered in double_scalars\n",
      "  if -0.1<(temp_blow_xy.iloc[i,0]- temp_blow_xy.iloc[i+1,0])/(temp_blow_xy.iloc[i,1]- temp_blow_xy.iloc[i+1,1])<0.1:\n"
     ]
    },
    {
     "name": "stdout",
     "output_type": "stream",
     "text": [
      "temp_blow_xy = dp67_blow_xy\n",
      "front cut index :  20\n",
      "back cut index :  5\n",
      "\t\n",
      "temp_blow_xy = dp68_blow_xy\n",
      "front cut index :  22\n",
      "back cut index :  4\n",
      "\t\n",
      "temp_blow_xy = dp69_blow_xy\n",
      "front cut index :  26\n",
      "back cut index :  4\n",
      "\t\n",
      "temp_blow_xy = dp70_blow_xy\n",
      "front cut index :  31\n",
      "back cut index :  4\n",
      "\t\n",
      "temp_blow_xy = dp71_blow_xy\n",
      "front cut index :  20\n",
      "back cut index :  4\n",
      "\t\n",
      "temp_blow_xy = dp72_blow_xy\n",
      "front cut index :  20\n",
      "back cut index :  5\n",
      "\t\n",
      "temp_blow_xy = dp73_blow_xy\n",
      "front cut index :  20\n",
      "back cut index :  4\n",
      "\t\n",
      "temp_blow_xy = dp74_blow_xy\n",
      "front cut index :  25\n",
      "back cut index :  4\n",
      "\t\n",
      "temp_blow_xy = dp75_blow_xy\n",
      "front cut index :  28\n",
      "back cut index :  4\n",
      "\t\n",
      "temp_blow_xy = dp76_blow_xy\n",
      "front cut index :  32\n",
      "back cut index :  4\n",
      "\t\n",
      "temp_blow_xy = dp77_blow_xy\n",
      "front cut index :  37\n",
      "back cut index :  4\n",
      "\t\n",
      "temp_blow_xy = dp78_blow_xy\n",
      "front cut index :  21\n",
      "back cut index :  4\n",
      "\t\n",
      "temp_blow_xy = dp79_blow_xy\n",
      "front cut index :  22\n",
      "back cut index :  4\n",
      "\t\n",
      "temp_blow_xy = dp80_blow_xy\n",
      "front cut index :  30\n",
      "back cut index :  4\n",
      "\t\n",
      "temp_blow_xy = dp81_blow_xy\n",
      "front cut index :  37\n",
      "back cut index :  4\n",
      "\t\n",
      "temp_blow_xy = dp82_blow_xy\n",
      "front cut index :  35\n",
      "back cut index :  4\n",
      "\t\n",
      "temp_blow_xy = dp83_blow_xy\n",
      "front cut index :  33\n",
      "back cut index :  4\n",
      "\t\n",
      "temp_blow_xy = dp84_blow_xy\n",
      "front cut index :  24\n",
      "back cut index :  4\n",
      "\t\n",
      "temp_blow_xy = dp85_blow_xy\n",
      "front cut index :  25\n",
      "back cut index :  4\n",
      "\t\n",
      "temp_blow_xy = dp86_blow_xy\n",
      "front cut index :  21\n",
      "back cut index :  4\n",
      "\t\n",
      "temp_blow_xy = dp87_blow_xy\n",
      "front cut index :  21\n",
      "back cut index :  4\n",
      "\t\n",
      "temp_blow_xy = dp88_blow_xy\n",
      "front cut index :  20\n",
      "back cut index :  4\n",
      "\t\n",
      "temp_blow_xy = dp89_blow_xy\n",
      "front cut index :  35\n",
      "back cut index :  4\n",
      "\t\n",
      "temp_blow_xy = dp90_blow_xy\n",
      "front cut index :  22\n",
      "back cut index :  5\n",
      "\t\n",
      "temp_blow_xy = dp91_blow_xy\n",
      "front cut index :  38\n",
      "back cut index :  4\n",
      "\t\n",
      "temp_blow_xy = dp92_blow_xy\n",
      "front cut index :  20\n",
      "back cut index :  4\n",
      "\t\n",
      "temp_blow_xy = dp93_blow_xy\n",
      "front cut index :  20\n",
      "back cut index :  4\n",
      "\t\n",
      "temp_blow_xy = dp94_blow_xy\n",
      "front cut index :  29\n",
      "back cut index :  4\n",
      "\t\n",
      "temp_blow_xy = dp95_blow_xy\n",
      "front cut index :  29\n",
      "back cut index :  4\n",
      "\t\n",
      "temp_blow_xy = dp96_blow_xy\n",
      "front cut index :  37\n",
      "back cut index :  4\n",
      "\t\n",
      "temp_blow_xy = dp97_blow_xy\n",
      "front cut index :  29\n",
      "back cut index :  4\n",
      "\t\n",
      "temp_blow_xy = dp98_blow_xy\n",
      "front cut index :  24\n",
      "back cut index :  4\n",
      "\t\n",
      "temp_blow_xy = dp99_blow_xy\n",
      "front cut index :  36\n",
      "back cut index :  4\n",
      "\t\n",
      "temp_blow_xy = dp100_blow_xy\n",
      "front cut index :  21\n",
      "back cut index :  4\n",
      "\t\n"
     ]
    }
   ],
   "source": [
    "# 앞뒤 자르기 \n",
    "front_cut_list = []\n",
    "back_cut_list  = []\n",
    "for k in range (100):\n",
    "    s = \"temp_blow_xy = dp%d_blow_xy\"%(k+1) ; exec(s)\n",
    "    \n",
    "    for i in range (temp_blow_xy.shape[0]):\n",
    "        if -0.1<(temp_blow_xy.iloc[i,0]- temp_blow_xy.iloc[i+1,0])/(temp_blow_xy.iloc[i,1]- temp_blow_xy.iloc[i+1,1])<0.1:\n",
    "            front_cut_index = i\n",
    "            front_cut_list = np.append(front_cut_list ,front_cut_index+1)\n",
    "            print(s)\n",
    "            print(\"front cut index : \",front_cut_index+1)\n",
    "            break\n",
    "\n",
    "    temp_blow_xy_reverse = temp_blow_xy[::-1]\n",
    "\n",
    "    for j in range (1,temp_blow_xy_reverse.shape[0]):\n",
    "        if -0.1<(temp_blow_xy_reverse.iloc[j,0]- temp_blow_xy_reverse.iloc[j+1,0])/(temp_blow_xy_reverse.iloc[j,1]- temp_blow_xy_reverse.iloc[j+1,1])<0.1:\n",
    "            back_cut_index = j\n",
    "            back_cut_list = np.append(back_cut_list,back_cut_index+1)\n",
    "            print(\"back cut index : \",back_cut_index+1)\n",
    "            print('\\t')\n",
    "            break\n",
    "\n",
    "\n"
   ]
  },
  {
   "cell_type": "code",
   "execution_count": 157,
   "metadata": {
    "scrolled": true
   },
   "outputs": [
    {
     "data": {
      "text/plain": [
       "(array([0.07037068, 0.06862715, 0.06937113, 0.07179063, 0.07009743,\n",
       "        0.06824383, 0.075276  , 0.07464799, 0.07051057, 0.06528757,\n",
       "        0.06913747, 0.06975881, 0.07304637, 0.06856945, 0.06892613,\n",
       "        0.0701773 , 0.07096487, 0.06866267, 0.06989144, 0.07353574,\n",
       "        0.06543176, 0.06977791, 0.07140617, 0.06883954, 0.07073491,\n",
       "        0.07101758, 0.06816482, 0.06915322, 0.06928636, 0.07225142,\n",
       "        0.07063735, 0.07449798, 0.0708292 , 0.07114533, 0.06730203,\n",
       "        0.07326825, 0.07303421, 0.07031886, 0.07451584, 0.06806137,\n",
       "        0.06821086, 0.06986454, 0.0709477 , 0.06625806, 0.07375672,\n",
       "        0.06888214, 0.07476082, 0.06740315, 0.06937677, 0.06913586,\n",
       "        0.06845593, 0.06999704, 0.06907087, 0.07223994, 0.07057257,\n",
       "        0.06759432, 0.06843983, 0.07063088, 0.0699943 , 0.06884555,\n",
       "        0.06579191, 0.0661094 , 0.07482359, 0.070225  , 0.07021838,\n",
       "        0.06904809, 0.06931112, 0.06949944, 0.07151798, 0.07113821,\n",
       "        0.07561602, 0.06768828, 0.07116654, 0.07243582, 0.06897657,\n",
       "        0.07014294, 0.06735188, 0.07158365, 0.0717334 , 0.07237869,\n",
       "        0.06979705, 0.06991936, 0.07214993, 0.07042172, 0.0707509 ,\n",
       "        0.07386719, 0.07432946, 0.07721566, 0.06622792, 0.07356698,\n",
       "        0.07230679, 0.07099839, 0.07044928, 0.07083928, 0.0690449 ,\n",
       "        0.06716643, 0.07057551, 0.06942115, 0.07449339, 0.06930361]),\n",
       " array([0.01448026, 0.01547878, 0.01416045, 0.01523493, 0.01460067,\n",
       "        0.01520658, 0.01454114, 0.01467135, 0.0145128 , 0.01530582,\n",
       "        0.01501402, 0.01425993, 0.0154055 , 0.01480618, 0.01588447,\n",
       "        0.01524473, 0.014998  , 0.01438285, 0.01535875, 0.01548241,\n",
       "        0.01460692, 0.01480644, 0.01550993, 0.01564863, 0.01510671,\n",
       "        0.01562152, 0.01691046, 0.01509897, 0.01550714, 0.01480715,\n",
       "        0.01579037, 0.01532475, 0.01495802, 0.01576097, 0.0150509 ,\n",
       "        0.01493446, 0.01415839, 0.0166674 , 0.01651591, 0.01518683,\n",
       "        0.01554162, 0.0163617 , 0.01273435, 0.01279795, 0.01489662,\n",
       "        0.01650265, 0.01680714, 0.01330823, 0.01710924, 0.01568382,\n",
       "        0.01665653, 0.01620558, 0.0125275 , 0.01425296, 0.01237554,\n",
       "        0.01633869, 0.01445781, 0.01462663, 0.01697925, 0.0124142 ,\n",
       "        0.01683991, 0.01537551, 0.01248316, 0.01603535, 0.01622531,\n",
       "        0.01617959, 0.01680687, 0.0123446 , 0.0125587 , 0.01225035,\n",
       "        0.0123341 , 0.01660381, 0.01237301, 0.01313921, 0.01280205,\n",
       "        0.01230396, 0.0135302 , 0.01251187, 0.0125728 , 0.01223248,\n",
       "        0.01448949, 0.01246753, 0.01411985, 0.01398417, 0.01268243,\n",
       "        0.01257064, 0.01270066, 0.01249855, 0.0122218 , 0.01761696,\n",
       "        0.0124254 , 0.01315264, 0.01266685, 0.01249411, 0.01317269,\n",
       "        0.01266797, 0.01319796, 0.01300584, 0.01311153, 0.01217807]))"
      ]
     },
     "execution_count": 157,
     "metadata": {},
     "output_type": "execute_result"
    }
   ],
   "source": [
    "blow_bottom_length_factor = []\n",
    "blow_top_length_factor    = []\n",
    "for k in range (100):\n",
    "    #바닥부분 길이\n",
    "    exec(\"temp_bottom_data = dp%d_blow_xy.iloc[:int(front_cut_list[k]),:]\"%(k+1))\n",
    "    \n",
    "    temp_bottom_length = 0\n",
    "    for i in range(temp_bottom_data.shape[0]-1):\n",
    "        a = np.square(temp_bottom_data.iloc[i,0]-temp_bottom_data.iloc[i+1,0])\n",
    "        b = np.square(temp_bottom_data.iloc[i,1]-temp_bottom_data.iloc[i+1,1])\n",
    "        temp_bottom_length = temp_bottom_length + np.sqrt(a+b)\n",
    "    blow_bottom_length_factor = np.append(blow_bottom_length_factor, temp_bottom_length)\n",
    "\n",
    "    exec(\"dp%d_blow_xy_reverse = dp%d_blow_xy[::-1]\"%(k+1,k+1))\n",
    "    exec(\"temp_top_data = dp%d_blow_xy_reverse.iloc[:int(back_cut_list[k]),:]\"%(k+1))\n",
    "    temp_top_length = 0\n",
    "    for j in range(temp_top_data.shape[0]-1):\n",
    "        a = np.square(temp_top_data.iloc[j,0]-temp_top_data.iloc[j+1,0])\n",
    "        b = np.square(temp_top_data.iloc[j,1]-temp_top_data.iloc[j+1,1])\n",
    "        temp_top_length = temp_top_length + np.sqrt(a+b)\n",
    "    blow_top_length_factor = np.append(blow_top_length_factor, temp_top_length)\n",
    "    \n",
    "    \n",
    "blow_bottom_length_factor,blow_top_length_factor"
   ]
  },
  {
   "cell_type": "code",
   "execution_count": 158,
   "metadata": {},
   "outputs": [
    {
     "data": {
      "text/plain": [
       "array([0.21263569, 0.21331757, 0.21492608, 0.21052459, 0.2127968 ,\n",
       "       0.21404194, 0.20708378, 0.20807827, 0.21251959, 0.2163908 ,\n",
       "       0.21350868, 0.21350605, 0.20876822, 0.2139166 , 0.21269438,\n",
       "       0.21187817, 0.2114975 , 0.21447258, 0.212209  , 0.20835656,\n",
       "       0.21726498, 0.21286689, 0.21016306, 0.21316335, 0.21171415,\n",
       "       0.21076326, 0.21242353, 0.21323736, 0.21253319, 0.21039184,\n",
       "       0.21118334, 0.20750857, 0.2112629 , 0.21059413, 0.21501905,\n",
       "       0.20922857, 0.21023182, 0.21056442, 0.20605133, 0.21405729,\n",
       "       0.21369833, 0.21131139, 0.21389392, 0.21811293, 0.20865678,\n",
       "       0.2119383 , 0.20590577, 0.21685745, 0.21106262, 0.21270231,\n",
       "       0.21227969, 0.21119262, 0.21574829, 0.21089338, 0.21425877,\n",
       "       0.21335363, 0.21446211, 0.21217527, 0.21051129, 0.21616821,\n",
       "       0.21462796, 0.21577654, 0.20949678, 0.2113826 , 0.210691  ,\n",
       "       0.2122646 , 0.2110359 , 0.21548821, 0.21333767, 0.21411652,\n",
       "       0.20922772, 0.21304244, 0.213507  , 0.21171329, 0.21573849,\n",
       "       0.21505571, 0.21651416, 0.21314694, 0.21305727, 0.21292669,\n",
       "       0.21307642, 0.21501798, 0.21126467, 0.21309456, 0.21397658,\n",
       "       0.21094484, 0.21025825, 0.20731712, 0.21901727, 0.20632132,\n",
       "       0.21266786, 0.21276918, 0.21396948, 0.21423098, 0.21519496,\n",
       "       0.21758733, 0.21359943, 0.21497935, 0.2097745 , 0.21588213])"
      ]
     },
     "execution_count": 158,
     "metadata": {},
     "output_type": "execute_result"
    }
   ],
   "source": [
    "blow_side_length_factor = blow_length_factor-blow_bottom_length_factor-blow_top_length_factor\n",
    "blow_side_length_factor"
   ]
  },
  {
   "cell_type": "code",
   "execution_count": 152,
   "metadata": {},
   "outputs": [
    {
     "data": {
      "text/plain": [
       "22"
      ]
     },
     "execution_count": 152,
     "metadata": {},
     "output_type": "execute_result"
    }
   ],
   "source": [
    "np.argmax(blow_bottom_length_factor)"
   ]
  },
  {
   "cell_type": "code",
   "execution_count": 153,
   "metadata": {},
   "outputs": [
    {
     "data": {
      "text/plain": [
       "66"
      ]
     },
     "execution_count": 153,
     "metadata": {},
     "output_type": "execute_result"
    }
   ],
   "source": [
    "np.argmin(blow_bottom_length_factor)"
   ]
  },
  {
   "cell_type": "code",
   "execution_count": 154,
   "metadata": {
    "scrolled": false
   },
   "outputs": [
    {
     "data": {
      "image/png": "[encoded data removed]",
      "text/plain": [
       "<Figure size 360x432 with 1 Axes>"
      ]
     },
     "metadata": {
      "needs_background": "light"
     },
     "output_type": "display_data"
    }
   ],
   "source": [
    "for i in range(21,22):\n",
    "    s = \"temp_blow_xy = dp%d_blow_xy\"%(i+1) ; exec(s)\n",
    "    plt.figure(figsize = (5,6))\n",
    "    plt.grid(alpha = 0.5)\n",
    "    plt.title(s,fontsize = 16)\n",
    "    plt.xlabel('X [m]')\n",
    "    plt.xlim(0,0.08)\n",
    "    plt.ylabel('Y [m]')\n",
    "    plt.ylim(-0.35,0)\n",
    "    plt.plot(temp_blow_xy.iloc[:,0],temp_blow_xy.iloc[:,1])\n",
    "    # plt.scatter(temp_blow_xy.iloc[:,0],temp_blow_xy.iloc[:,1])\n",
    "    # plt.savefig(\"D:/testoneblow/pictures/\"+testcase+\"_blow_thick.jpg\",bbox_inches = 'tight')"
   ]
  },
  {
   "cell_type": "code",
   "execution_count": 155,
   "metadata": {},
   "outputs": [
    {
     "data": {
      "image/png": "[encoded data removed]",
      "text/plain": [
       "<Figure size 360x432 with 1 Axes>"
      ]
     },
     "metadata": {
      "needs_background": "light"
     },
     "output_type": "display_data"
    }
   ],
   "source": [
    "for i in range(65,66):\n",
    "    s = \"temp_blow_xy = dp%d_blow_xy\"%(i+1) ; exec(s)\n",
    "    plt.figure(figsize = (5,6))\n",
    "    plt.grid(alpha = 0.5)\n",
    "    plt.title(s,fontsize = 16)\n",
    "    plt.xlabel('X [m]')\n",
    "    plt.xlim(0,0.08)\n",
    "    plt.ylabel('Y [m]')\n",
    "    plt.ylim(-0.35,0)\n",
    "    plt.plot(temp_blow_xy.iloc[:,0],temp_blow_xy.iloc[:,1])\n",
    "    # plt.scatter(temp_blow_xy.iloc[:,0],temp_blow_xy.iloc[:,1])\n",
    "    # plt.savefig(\"D:/testoneblow/pictures/\"+testcase+\"_blow_thick.jpg\",bbox_inches = 'tight')"
   ]
  },
  {
   "cell_type": "code",
   "execution_count": null,
   "metadata": {},
   "outputs": [],
   "source": []
  }
 ],
 "metadata": {
  "kernelspec": {
   "display_name": "Python 3",
   "language": "python",
   "name": "python3"
  },
  "language_info": {
   "codemirror_mode": {
    "name": "ipython",
    "version": 3
   },
   "file_extension": ".py",
   "mimetype": "text/x-python",
   "name": "python",
   "nbconvert_exporter": "python",
   "pygments_lexer": "ipython3",
   "version": "3.8.8"
  }
 },
 "nbformat": 4,
 "nbformat_minor": 4
}
