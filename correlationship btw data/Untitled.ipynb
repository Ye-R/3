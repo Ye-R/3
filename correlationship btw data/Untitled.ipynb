{
 "cells": [
  {
   "cell_type": "code",
   "execution_count": 1,
   "id": "8f7bb178",
   "metadata": {},
   "outputs": [],
   "source": [
    "import pandas as pd\n",
    "import numpy as np\n",
    "import matplotlib.pyplot as plt\n",
    "from sklearn.cluster import KMeans "
   ]
  },
  {
   "cell_type": "code",
   "execution_count": null,
   "id": "85bb2b34",
   "metadata": {},
   "outputs": [],
   "source": [
    "\n",
    "\n",
    "# k-means clustering 실행\n",
    "kmeans = KMeans(n_clusters=4)\n",
    "kmeans.fit(points)\n",
    "\n",
    "# 결과 확인\n",
    "result_by_sklearn = points.copy()\n",
    "result_by_sklearn[\"cluster\"] = kmeans.labels_\n",
    "result_by_sklearn.head()"
   ]
  }
 ],
 "metadata": {
  "kernelspec": {
   "display_name": "Python 3",
   "language": "python",
   "name": "python3"
  },
  "language_info": {
   "codemirror_mode": {
    "name": "ipython",
    "version": 3
   },
   "file_extension": ".py",
   "mimetype": "text/x-python",
   "name": "python",
   "nbconvert_exporter": "python",
   "pygments_lexer": "ipython3",
   "version": "3.7.11"
  }
 },
 "nbformat": 4,
 "nbformat_minor": 5
}
